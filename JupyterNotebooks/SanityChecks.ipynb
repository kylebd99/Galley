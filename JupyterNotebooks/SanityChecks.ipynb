{
 "cells": [
  {
   "cell_type": "code",
   "execution_count": 1,
   "id": "b4734861",
   "metadata": {},
   "outputs": [],
   "source": [
    "import pandas as pd\n",
    "import numpy as np\n",
    "import random as rand\n",
    "import time\n",
    "from collections import Counter"
   ]
  },
  {
   "cell_type": "markdown",
   "id": "3480272f",
   "metadata": {},
   "source": [
    "This notebook will attempt to check the performance of\n",
    "Agg_kjm([[B(k,i), C(k), D(k)],[D(j,l,m), C(j)]],R(i,l)) versus \n",
    "Agg_kj([[B(k,i), C(k), D(k)], Agg_m([[D(j=b, l,m)]], T(j, l)), [T(j, l), C(j)]], R(i,l)) versus\n",
    "Agg_kj([Agg_m([[D(k,j,l,m)]],T(k,j,l)), [B(k,i), C(k), T(k)], [T(j, l), C(j)]], R(i,l))"
   ]
  },
  {
   "cell_type": "code",
   "execution_count": 2,
   "id": "6e7da23f",
   "metadata": {},
   "outputs": [],
   "source": [
    "domainSize = 50\n",
    "B_Size = 10\n",
    "C_Size = 1000**2\n",
    "D_Size = domainSize**4\n",
    "B, C, D = dict(), dict(), dict()\n",
    "for _ in range(B_Size):\n",
    "    column = rand.randint(0,domainSize)\n",
    "    row = rand.randint(0,domainSize)\n",
    "    if column not in B:\n",
    "        B[column] = set()\n",
    "    B[column].add(row)\n",
    "    \n",
    "    \n",
    "for _ in range(C_Size):\n",
    "    column = rand.randint(0,domainSize)\n",
    "    row = rand.randint(0,domainSize)\n",
    "    if column not in C:\n",
    "        C[column] = set()\n",
    "    C[column].add(row)\n",
    "    \n",
    "for _ in range(D_Size):\n",
    "    column = rand.randint(0,domainSize)\n",
    "    row = tuple([rand.randint(0,domainSize) for _ in range(3)])\n",
    "    if column not in D:\n",
    "        D[column] = set()\n",
    "    D[column].add(row)"
   ]
  },
  {
   "cell_type": "code",
   "execution_count": 3,
   "id": "fbadd00c",
   "metadata": {},
   "outputs": [
    {
     "name": "stdout",
     "output_type": "stream",
     "text": [
      "2.19 s ± 107 ms per loop (mean ± std. dev. of 7 runs, 1 loop each)\n"
     ]
    }
   ],
   "source": [
    "%%timeit\n",
    "aggResults1 = dict()\n",
    "for k in B.keys():\n",
    "    if (k not in C) or (k not in D):\n",
    "        continue\n",
    "    for i in B[k]:\n",
    "        for j,l,m in D[k]:\n",
    "            x = [1 for _ in range(100)] # assuming some lookup cost associated with C[k]\n",
    "            if j in C[k]:\n",
    "                if (i,l) not in aggResults1:\n",
    "                    aggResults1[(i,l)] = 1\n",
    "                else:\n",
    "                    aggResults1[(i,l)] += 1"
   ]
  },
  {
   "cell_type": "code",
   "execution_count": 4,
   "id": "e5abda59",
   "metadata": {},
   "outputs": [
    {
     "name": "stdout",
     "output_type": "stream",
     "text": [
      "293 ms ± 6.13 ms per loop (mean ± std. dev. of 7 runs, 1 loop each)\n"
     ]
    }
   ],
   "source": [
    "%%timeit\n",
    "aggResults2 = dict()\n",
    "for k in B.keys():\n",
    "    if (k not in C) or (k not in D):\n",
    "        continue\n",
    "    for i in B[k]:\n",
    "        t = dict()\n",
    "        for j,l,m in D[k]:\n",
    "            if (j,l) not in t:\n",
    "                t[(j,l)] = 1\n",
    "            else:\n",
    "                t[(j,l)] += 1\n",
    "        for j,l in t.keys():\n",
    "            x = [1 for _ in range(100)] # assuming some lookup cost associated with C[k]\n",
    "            if j in C[k]:\n",
    "                if (i,l) not in aggResults2:\n",
    "                    aggResults2[(i,l)] = t[(j,l)]\n",
    "                else:\n",
    "                    aggResults2[(i,l)] += t[(j,l)]"
   ]
  },
  {
   "cell_type": "code",
   "execution_count": 5,
   "id": "96d99855",
   "metadata": {},
   "outputs": [
    {
     "name": "stdout",
     "output_type": "stream",
     "text": [
      "1.4 s ± 33.3 ms per loop (mean ± std. dev. of 7 runs, 1 loop each)\n"
     ]
    }
   ],
   "source": [
    "%%timeit\n",
    "aggResults3 = dict()\n",
    "t = dict()\n",
    "for k, v in D.items():\n",
    "    if k not in t:\n",
    "        t[k] = dict()\n",
    "    for j,l,m in v:        \n",
    "        if (j,l) not in t[k]:\n",
    "            t[k][(j,l)] = 1\n",
    "        else:\n",
    "            t[k][(j,l)] += 1\n",
    "for k in B.keys():\n",
    "    if (k not in C) or (k not in t):\n",
    "        continue\n",
    "    for i in B[k]:\n",
    "        for j,l in t[k].keys():\n",
    "            x = [1 for _ in range(100)] # assuming some lookup cost associated with C[k]\n",
    "            if j in C[k]:\n",
    "                if (i,l) not in aggResults3:\n",
    "                    aggResults3[(i,l)] = t[k][(j,l)]\n",
    "                else:\n",
    "                    aggResults3[(i,l)] += t[k][(j,l)]"
   ]
  },
  {
   "cell_type": "code",
   "execution_count": 1,
   "id": "23e39689",
   "metadata": {},
   "outputs": [
    {
     "ename": "NameError",
     "evalue": "name 'aggResults1' is not defined",
     "output_type": "error",
     "traceback": [
      "\u001b[0;31m---------------------------------------------------------------------------\u001b[0m",
      "\u001b[0;31mNameError\u001b[0m                                 Traceback (most recent call last)",
      "\u001b[0;32m/tmp/ipykernel_431391/820099488.py\u001b[0m in \u001b[0;36m<module>\u001b[0;34m\u001b[0m\n\u001b[0;32m----> 1\u001b[0;31m \u001b[0;32mfor\u001b[0m \u001b[0mk\u001b[0m \u001b[0;32min\u001b[0m \u001b[0maggResults1\u001b[0m\u001b[0;34m.\u001b[0m\u001b[0mkeys\u001b[0m\u001b[0;34m(\u001b[0m\u001b[0;34m)\u001b[0m\u001b[0;34m:\u001b[0m\u001b[0;34m\u001b[0m\u001b[0;34m\u001b[0m\u001b[0m\n\u001b[0m\u001b[1;32m      2\u001b[0m     \u001b[0;32mif\u001b[0m \u001b[0maggResults1\u001b[0m\u001b[0;34m[\u001b[0m\u001b[0mk\u001b[0m\u001b[0;34m]\u001b[0m \u001b[0;34m!=\u001b[0m \u001b[0maggResults2\u001b[0m\u001b[0;34m[\u001b[0m\u001b[0mk\u001b[0m\u001b[0;34m]\u001b[0m\u001b[0;34m:\u001b[0m\u001b[0;34m\u001b[0m\u001b[0;34m\u001b[0m\u001b[0m\n\u001b[1;32m      3\u001b[0m         \u001b[0mprint\u001b[0m\u001b[0;34m(\u001b[0m\u001b[0;34m\"PROBLEM\"\u001b[0m\u001b[0;34m)\u001b[0m\u001b[0;34m\u001b[0m\u001b[0;34m\u001b[0m\u001b[0m\n\u001b[1;32m      4\u001b[0m     \u001b[0;32mif\u001b[0m \u001b[0maggResults1\u001b[0m\u001b[0;34m[\u001b[0m\u001b[0mk\u001b[0m\u001b[0;34m]\u001b[0m \u001b[0;34m!=\u001b[0m \u001b[0maggResults3\u001b[0m\u001b[0;34m[\u001b[0m\u001b[0mk\u001b[0m\u001b[0;34m]\u001b[0m\u001b[0;34m:\u001b[0m\u001b[0;34m\u001b[0m\u001b[0;34m\u001b[0m\u001b[0m\n\u001b[1;32m      5\u001b[0m         \u001b[0mprint\u001b[0m\u001b[0;34m(\u001b[0m\u001b[0;34m\"PROBLEM\"\u001b[0m\u001b[0;34m)\u001b[0m\u001b[0;34m\u001b[0m\u001b[0;34m\u001b[0m\u001b[0m\n",
      "\u001b[0;31mNameError\u001b[0m: name 'aggResults1' is not defined"
     ]
    }
   ],
   "source": [
    "for k in aggResults1.keys():\n",
    "    if aggResults1[k] != aggResults2[k]:\n",
    "        print(\"PROBLEM\")\n",
    "    if aggResults1[k] != aggResults3[k]:\n",
    "        print(\"PROBLEM\")"
   ]
  },
  {
   "cell_type": "code",
   "execution_count": null,
   "id": "d7003180",
   "metadata": {},
   "outputs": [],
   "source": []
  }
 ],
 "metadata": {
  "kernelspec": {
   "display_name": "Python 3",
   "language": "python",
   "name": "python3"
  },
  "language_info": {
   "codemirror_mode": {
    "name": "ipython",
    "version": 3
   },
   "file_extension": ".py",
   "mimetype": "text/x-python",
   "name": "python",
   "nbconvert_exporter": "python",
   "pygments_lexer": "ipython3",
   "version": "3.10.6"
  },
  "vscode": {
   "interpreter": {
    "hash": "916dbcbb3f70747c44a77c7bcd40155683ae19c65e1c03b4aa3499c5328201f1"
   }
  }
 },
 "nbformat": 4,
 "nbformat_minor": 5
}
