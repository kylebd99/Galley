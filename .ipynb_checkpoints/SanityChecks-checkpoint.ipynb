{
 "cells": [
  {
   "cell_type": "code",
   "execution_count": 8,
   "id": "fec471b8",
   "metadata": {},
   "outputs": [],
   "source": [
    "import pandas as pd\n",
    "import numpy as np\n",
    "import random as rand\n",
    "import time\n",
    "from collections import Counter"
   ]
  },
  {
   "cell_type": "markdown",
   "id": "f64c7aa1",
   "metadata": {},
   "source": [
    "This notebook will attempt to check the performance of\n",
    "Agg_kjm([[B(k,i), C(k), D(k)],[D(j,l,m), C(j)]],R(i,l)) versus \n",
    "Agg_kj([[B(k,i), C(k), D(k)], Agg_m([[D(j=b, l,m)]], T(j, l)), [T(j, l), C(j)]], R(i,l)) versus\n",
    "Agg_kj([Agg_m([[D(k,j,l,m)]],T(k,j,l)), [B(k,i), C(k), T(k)], [T(j, l), C(j)]], R(i,l))"
   ]
  },
  {
   "cell_type": "code",
   "execution_count": 78,
   "id": "d04f6e1d",
   "metadata": {},
   "outputs": [],
   "source": [
    "domainSize = 50\n",
    "B_Size = 10\n",
    "C_Size = 1000**2\n",
    "D_Size = domainSize**4\n",
    "B, C, D = dict(), dict(), dict()\n",
    "for _ in range(B_Size):\n",
    "    column = rand.randint(0,domainSize)\n",
    "    row = rand.randint(0,domainSize)\n",
    "    if column not in B:\n",
    "        B[column] = set()\n",
    "    B[column].add(row)\n",
    "    \n",
    "    \n",
    "for _ in range(C_Size):\n",
    "    column = rand.randint(0,domainSize)\n",
    "    row = rand.randint(0,domainSize)\n",
    "    if column not in C:\n",
    "        C[column] = set()\n",
    "    C[column].add(row)\n",
    "    \n",
    "for _ in range(D_Size):\n",
    "    column = rand.randint(0,domainSize)\n",
    "    row = tuple([rand.randint(0,domainSize) for _ in range(3)])\n",
    "    if column not in D:\n",
    "        D[column] = set()\n",
    "    D[column].add(row)"
   ]
  },
  {
   "cell_type": "code",
   "execution_count": 79,
   "id": "8649ceff",
   "metadata": {},
   "outputs": [
    {
     "name": "stdout",
     "output_type": "stream",
     "text": [
      "343 ms ± 33.1 ms per loop (mean ± std. dev. of 7 runs, 1 loop each)\n"
     ]
    }
   ],
   "source": [
    "%%timeit\n",
    "aggResults1 = dict()\n",
    "for k in B.keys():\n",
    "    if (k not in C) or (k not in D):\n",
    "        continue\n",
    "    for i in B[k]:\n",
    "        for j,l,m in D[k]:\n",
    "            if j in C[k]:\n",
    "                if (i,l) not in aggResults1:\n",
    "                    aggResults1[(i,l)] = 1\n",
    "                else:\n",
    "                    aggResults1[(i,l)] += 1"
   ]
  },
  {
   "cell_type": "code",
   "execution_count": 80,
   "id": "70f019d1",
   "metadata": {},
   "outputs": [
    {
     "name": "stdout",
     "output_type": "stream",
     "text": [
      "293 ms ± 15.7 ms per loop (mean ± std. dev. of 7 runs, 1 loop each)\n"
     ]
    }
   ],
   "source": [
    "%%timeit\n",
    "aggResults2 = dict()\n",
    "for k in B.keys():\n",
    "    if (k not in C) or (k not in D):\n",
    "        continue\n",
    "    for i in B[k]:\n",
    "        t = dict()\n",
    "        for j,l,m in D[k]:\n",
    "            if (j,l) not in t:\n",
    "                t[(j,l)] = 1\n",
    "            else:\n",
    "                t[(j,l)] += 1\n",
    "        for j,l in t.keys():\n",
    "            if j in C[k]:\n",
    "                if (i,l) not in aggResults2:\n",
    "                    aggResults2[(i,l)] = t[(j,l)]\n",
    "                else:\n",
    "                    aggResults2[(i,l)] += t[(j,l)]"
   ]
  },
  {
   "cell_type": "code",
   "execution_count": 81,
   "id": "58a0f141",
   "metadata": {},
   "outputs": [
    {
     "name": "stdout",
     "output_type": "stream",
     "text": [
      "1.62 s ± 58.4 ms per loop (mean ± std. dev. of 7 runs, 1 loop each)\n"
     ]
    }
   ],
   "source": [
    "%%timeit\n",
    "aggResults3 = dict()\n",
    "t = dict()\n",
    "for k, v in D.items():\n",
    "    if k not in t:\n",
    "        t[k] = dict()\n",
    "    for j,l,m in v:        \n",
    "        if (j,l) not in t[k]:\n",
    "            t[k][(j,l)] = 1\n",
    "        else:\n",
    "            t[k][(j,l)] += 1\n",
    "for k in B.keys():\n",
    "    if (k not in C) or (k not in t):\n",
    "        continue\n",
    "    for i in B[k]:\n",
    "        for j,l in t[k].keys():\n",
    "            if j in C[k]:\n",
    "                if (i,l) not in aggResults3:\n",
    "                    aggResults3[(i,l)] = t[k][(j,l)]\n",
    "                else:\n",
    "                    aggResults3[(i,l)] += t[k][(j,l)]"
   ]
  },
  {
   "cell_type": "code",
   "execution_count": 66,
   "id": "d935f17e",
   "metadata": {},
   "outputs": [],
   "source": [
    "for k in aggResults1.keys():\n",
    "    if aggResults1[k] != aggResults2[k]:\n",
    "        print(\"PROBLEM\")\n",
    "    if aggResults1[k] != aggResults3[k]:\n",
    "        print(\"PROBLEM\")"
   ]
  },
  {
   "cell_type": "code",
   "execution_count": null,
   "id": "6414c06b",
   "metadata": {},
   "outputs": [],
   "source": []
  }
 ],
 "metadata": {
  "kernelspec": {
   "display_name": "Python 3",
   "language": "python",
   "name": "python3"
  },
  "language_info": {
   "codemirror_mode": {
    "name": "ipython",
    "version": 3
   },
   "file_extension": ".py",
   "mimetype": "text/x-python",
   "name": "python",
   "nbconvert_exporter": "python",
   "pygments_lexer": "ipython3",
   "version": "3.8.3"
  }
 },
 "nbformat": 4,
 "nbformat_minor": 5
}
