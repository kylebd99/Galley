{
 "cells": [
  {
   "cell_type": "code",
   "execution_count": 1,
   "metadata": {},
   "outputs": [
    {
     "name": "stdout",
     "output_type": "stream",
     "text": [
      "12\n"
     ]
    }
   ],
   "source": [
    "using Finch\n",
    "using SparseArrays\n",
    "using Metatheory\n",
    "using Metatheory.EGraphs\n",
    "using TermInterface\n",
    "using PrettyPrinting\n",
    "include(\"../src/Galley.jl\")\n",
    "using .Galley"
   ]
  },
  {
   "cell_type": "code",
   "execution_count": 3,
   "metadata": {},
   "outputs": [
    {
     "name": "stdout",
     "output_type": "stream",
     "text": [
      "Aggregate(+,[\"m\"],\n",
      "   Aggregate(+,[\"i_1\"],\n",
      "      MapJoin(*,\n",
      "         MapJoin(*,\n",
      "            Reorder(\n",
      "               InputTensor([\"i_1\", \"m\"],FIBER,Any[\"i_1\", \"m\", \"o\"]),Any[\"i_1\", \"m\", \"o\"]),\n",
      "            Reorder(\n",
      "               InputTensor([\"m\", \"o\"],FIBER,Any[\"i_1\", \"m\", \"o\"]),Any[\"i_1\", \"m\", \"o\"])),\n",
      "         Reorder(\n",
      "            InputTensor([\"m\", \"o\"],FIBER,Any[\"i_1\", \"m\", \"o\"]),Any[\"i_1\", \"m\", \"o\"]))))\n",
      "Expression: Aggregate(+,[\"m\", \"i_1\"],\n",
      "   MapJoin(*,\n",
      "      MapJoin(*,\n",
      "         Reorder(\n",
      "            InputTensor([\"i_1\", \"m\"],FIBER,Any[\"i_1\", \"m\", \"o\"]),Any[\"i_1\", \"m\", \"o\"]),\n",
      "         Reorder(\n",
      "            InputTensor([\"m\", \"o\"],FIBER,Any[\"i_1\", \"m\", \"o\"]),Any[\"i_1\", \"m\", \"o\"])),\n",
      "      Reorder(\n",
      "         InputTensor([\"m\", \"o\"],FIBER,Any[\"i_1\", \"m\", \"o\"]),Any[\"i_1\", \"m\", \"o\"])))\n",
      "Time to Execute: "
     ]
    },
    {
     "name": "stdout",
     "output_type": "stream",
     "text": [
      "0.289862671\n",
      "Aggregate(+,[\"m\"],\n",
      "   Aggregate(+,[\"i_1\"],\n",
      "      MapJoin(*,\n",
      "         MapJoin(*,\n",
      "            Reorder(\n",
      "               InputTensor([\"i_1\", \"m\"],FIBER,Any[\"i_1\", \"m\", \"o\"]),Any[\"i_1\", \"m\", \"o\"]),\n",
      "            Reorder(\n",
      "               InputTensor([\"m\", \"o\"],FIBER,Any[\"i_1\", \"m\", \"o\"]),Any[\"i_1\", \"m\", \"o\"])),\n",
      "         Reorder(\n",
      "            InputTensor([\"m\", \"o\"],FIBER,Any[\"i_1\", \"m\", \"o\"]),Any[\"i_1\", \"m\", \"o\"]))))\n",
      "Optimized Expression: Aggregate(+,[\"m\"],\n",
      "   MapJoin(*,\n",
      "      MapJoin(*,\n",
      "         Reorder(\n",
      "            InputTensor([\"m\", \"o\"],FIBER,Any[\"i_1\", \"m\", \"o\"]),Any[\"i_1\", \"m\", \"o\"]),\n",
      "         Reorder(\n",
      "            InputTensor([\"m\", \"o\"],FIBER,Any[\"i_1\", \"m\", \"o\"]),Any[\"i_1\", \"m\", \"o\"])),\n",
      "      Aggregate(+,[\"i_1\"],\n",
      "         Reorder(\n",
      "            InputTensor([\"i_1\", \"m\"],FIBER,Any[\"i_1\", \"m\", \"o\"]),Any[\"i_1\", \"m\", \"o\"]))))\n",
      "Time to Execute: 0.00615555\n"
     ]
    },
    {
     "data": {
      "text/plain": [
       "SparseHash (0) [1:10000]\n",
       "├─[224]: 92\n",
       "├─[232]: 100\n",
       "│ ⋮\n",
       "├─[9893]: 104\n",
       "├─[9993]: 86"
      ]
     },
     "metadata": {},
     "output_type": "display_data"
    }
   ],
   "source": [
    "A = InputTensor(uniform_fiber([10000, 100], .01))\n",
    "B = InputTensor(uniform_fiber([100, 10000], .01))\n",
    "C = InputTensor(uniform_fiber([100, 10000], .01))\n",
    "D = OutTensor()\n",
    "E = OutTensor()\n",
    "\n",
    "verbose = 1\n",
    "# Sum_i Sum_l B[j,l]*A[i,j]*A[i,j]\n",
    "D[\"j\", \"l\"] = ∑(\"i\", A[\"i\", \"j\"] * B[\"j\",\"l\"] * C[\"j\", \"l\"])\n",
    "E[\"o\"] = ∑(\"m\",  D[\"m\", \"o\"])\n",
    "\n",
    "\n",
    "output_tensor_1 = galley(E, verbose=verbose, optimize=false)\n",
    "\n",
    "output_tensor_2 = galley(E, verbose=verbose, global_index_order = 1, optimize=true)\n",
    "\n",
    "#output_tensor_3 = galley(E, verbose=verbose, global_index_order = 2, optimize=true)\n",
    "\n",
    "#output_tensor_4 = galley(E, verbose=verbose, global_index_order = 3, optimize=true)\n",
    "\n",
    "#output_tensor_5 = galley(E, verbose=verbose, global_index_order = 4, optimize=true)\n",
    "\n",
    "#println(\"Is Correct?: \", output_tensor_1 == output_tensor_2 && output_tensor_2 == output_tensor_3 && \n",
    "#                                output_tensor_3 == output_tensor_4 && output_tensor_4 == output_tensor_5)"
   ]
  },
  {
   "cell_type": "code",
   "execution_count": 4,
   "metadata": {},
   "outputs": [
    {
     "name": "stdout",
     "output_type": "stream",
     "text": [
      "Aggregate(+,[\"i\", \"j\"],\n",
      "   MapJoin(*,\n",
      "      MapJoin(*,\n",
      "         Reorder(\n",
      "            InputTensor([\"i\", \"k\", \"l\"],FIBER,Any[\"i\", \"j\", \"k\", \"l\"]),Any[\"i\", \"j\", \"k\", \"l\"]),\n",
      "         InputTensor([\"k\", \"j\"],FIBER,Any[\"i\", \"j\", \"k\", \"l\"])),\n",
      "      InputTensor([\"l\", \"j\"],FIBER,Any[\"i\", \"j\", \"k\", \"l\"])))\n",
      "Expression: Aggregate(+,[\"i\", \"j\"],\n",
      "   MapJoin(*,\n",
      "      MapJoin(*,\n",
      "         Reorder(\n",
      "            InputTensor([\"i\", \"k\", \"l\"],FIBER,Any[\"i\", \"j\", \"k\", \"l\"]),Any[\"i\", \"j\", \"k\", \"l\"]),\n",
      "         InputTensor([\"k\", \"j\"],FIBER,Any[\"i\", \"j\", \"k\", \"l\"])),\n",
      "      InputTensor([\"l\", \"j\"],FIBER,Any[\"i\", \"j\", \"k\", \"l\"])))\n",
      "Time to Execute: "
     ]
    },
    {
     "name": "stdout",
     "output_type": "stream",
     "text": [
      "10.577624096\n",
      "Aggregate(+,[\"i\", \"j\"],\n",
      "   MapJoin(*,\n",
      "      MapJoin(*,\n",
      "         Reorder(\n",
      "            InputTensor([\"i\", \"k\", \"l\"],FIBER,Any[\"i\", \"j\", \"k\", \"l\"]),Any[\"i\", \"j\", \"k\", \"l\"]),\n",
      "         InputTensor([\"k\", \"j\"],FIBER,Any[\"i\", \"j\", \"k\", \"l\"])),\n",
      "      InputTensor([\"l\", \"j\"],FIBER,Any[\"i\", \"j\", \"k\", \"l\"])))\n",
      "Optimized Expression: Aggregate(+,[\"i\", \"j\"],\n",
      "   MapJoin(*,\n",
      "      MapJoin(*,\n",
      "         Reorder(\n",
      "            InputTensor([\"i\", \"k\", \"l\"],FIBER,Any[\"i\", \"j\", \"k\", \"l\"]),Any[\"i\", \"j\", \"k\", \"l\"]),\n",
      "         InputTensor([\"l\", \"j\"],FIBER,Any[\"i\", \"j\", \"k\", \"l\"])),\n",
      "      InputTensor([\"k\", \"j\"],FIBER,Any[\"i\", \"j\", \"k\", \"l\"])))\n",
      "Time to Execute: "
     ]
    },
    {
     "name": "stdout",
     "output_type": "stream",
     "text": [
      "2.807477817\n",
      "Aggregate(+,[\"i\"],\n",
      "   MapJoin(*,\n",
      "      Reorder(\n",
      "         InputTensor([\"i\", \"k\", \"l\"],FIBER,Any[\"i\", \"j\", \"k\", \"l\"]),Any[\"i\", \"j\", \"k\", \"l\"]),\n",
      "      Aggregate(+,[\"j\"],\n",
      "         MapJoin(*,\n",
      "            InputTensor([\"k\", \"j\"],FIBER,Any[\"i\", \"j\", \"k\", \"l\"]),\n",
      "            InputTensor([\"l\", \"j\"],FIBER,Any[\"i\", \"j\", \"k\", \"l\"])))))\n",
      "Expression: Aggregate(+,[\"i\"],\n",
      "   MapJoin(*,\n",
      "      Reorder(\n",
      "         InputTensor([\"i\", \"k\", \"l\"],FIBER,Any[\"i\", \"j\", \"k\", \"l\"]),Any[\"i\", \"j\", \"k\", \"l\"]),\n",
      "      Aggregate(+,[\"j\"],\n",
      "         MapJoin(*,\n",
      "            InputTensor([\"k\", \"j\"],FIBER,Any[\"i\", \"j\", \"k\", \"l\"]),\n",
      "            InputTensor([\"l\", \"j\"],FIBER,Any[\"i\", \"j\", \"k\", \"l\"])))))\n",
      "Time to Execute: "
     ]
    },
    {
     "name": "stdout",
     "output_type": "stream",
     "text": [
      "144.535057069\n"
     ]
    },
    {
     "data": {
      "text/plain": [
       "SparseHash (0) [:,1:1000]\n",
       "├─[:,1]: SparseHash (0) [1:1000]\n",
       "│ ├─[164]: 9\n",
       "│ ├─[176]: 12\n",
       "│ │ ⋮\n",
       "│ ├─[954]: 10\n",
       "│ ├─[967]: 6\n",
       "├─[:,2]: SparseHash (0) [1:1000]\n",
       "│ ├─[342]: 6\n",
       "│ ├─[598]: 7\n",
       "│ ├─[939]: 10\n",
       "│ ├─[953]: 14\n",
       "│ ⋮\n",
       "├─[:,999]: SparseHash (0) [1:1000]\n",
       "│ ├─[28]: 11\n",
       "│ ├─[30]: 7\n",
       "│ │ ⋮\n",
       "│ ├─[880]: 12\n",
       "│ ├─[915]: 10\n",
       "├─[:,1000]: SparseHash (0) [1:1000]\n",
       "│ ├─[112]: 10\n",
       "│ ├─[143]: 9\n",
       "│ │ ⋮\n",
       "│ ├─[711]: 8\n",
       "│ ├─[762]: 8"
      ]
     },
     "metadata": {},
     "output_type": "display_data"
    }
   ],
   "source": [
    "is = [\"i\", \"j\"]\n",
    "B = InputTensor(uniform_fiber([1000, 1000, 1000], .00001))\n",
    "D = InputTensor(uniform_fiber([1000, 1000], 0.1))\n",
    "C = InputTensor(uniform_fiber([1000, 1000], 0.1))\n",
    "MTTKRP = OutTensor()\n",
    "MTTKRP_hand_opt = OutTensor()\n",
    "\n",
    "verbose = 1\n",
    "MTTKRP[\"k\", \"l\"] = ∑([\"i\", \"j\"],  B[\"i\", \"k\", \"l\"] * C[\"k\", \"j\"] * D[\"l\",\"j\"])\n",
    "\n",
    "output_tensor_1 = galley(MTTKRP, optimize=false, verbose=verbose)\n",
    "\n",
    "output_tensor_2 = galley(MTTKRP, optimize=true, verbose=verbose)\n",
    "\n",
    "MTTKRP_hand_opt[\"k\", \"l\"] = ∑([\"i\"],  B[\"i\", \"k\", \"l\"]  * ∑([\"j\"], C[\"k\", \"j\"] *  D[\"l\",\"j\"]))\n",
    "output_tensor_2 = galley(MTTKRP_hand_opt, optimize=false, verbose=verbose)\n",
    "\n"
   ]
  },
  {
   "cell_type": "code",
   "execution_count": 2,
   "metadata": {},
   "outputs": [
    {
     "name": "stdout",
     "output_type": "stream",
     "text": [
      "SaturationReport\n",
      "=================\n",
      "\tStop Reason: saturated\n",
      "\tIterations: 91\n",
      "\tEGraph Size: 245 eclasses, 4050 nodes\n",
      "\u001b[0m\u001b[1m ────────────────────────────────────────────────────────────────────\u001b[22m\n",
      "\u001b[0m\u001b[1m                   \u001b[22m         Time                    Allocations      \n",
      "                   ───────────────────────   ────────────────────────\n",
      " Tot / % measured:      6.38s /  90.3%           1.72GiB /  98.7%    \n",
      "\n",
      " Section   ncalls     time    %tot     avg     alloc    %tot      avg\n",
      " ────────────────────────────────────────────────────────────────────\n",
      " Apply         91    3.09s   53.7%  34.0ms    699MiB   40.2%  7.68MiB\n",
      " Search        91    2.19s   38.0%  24.1ms   0.96GiB   56.8%  10.9MiB\n",
      "   6           91    845ms   14.7%  9.29ms    501MiB   28.8%  5.51MiB\n",
      "   1           91    269ms    4.7%  2.95ms   42.9MiB    2.5%   483KiB\n",
      "   4           91    176ms    3.1%  1.93ms   77.3MiB    4.4%   870KiB\n",
      "   3           91    158ms    2.7%  1.73ms   68.5MiB    3.9%   771KiB\n",
      "   12          91    154ms    2.7%  1.70ms   18.0MiB    1.0%   202KiB\n",
      "   2           91    142ms    2.5%  1.56ms   21.9MiB    1.3%   247KiB\n",
      "   5           91    124ms    2.2%  1.36ms   82.1MiB    4.7%   924KiB\n",
      "   7           91   98.6ms    1.7%  1.08ms   66.1MiB    3.8%   744KiB\n",
      "   9           91   78.9ms    1.4%   867μs   54.0MiB    3.1%   607KiB\n",
      "   10          91   62.4ms    1.1%   686μs   6.81MiB    0.4%  76.6KiB\n",
      "   11          91   26.1ms    0.5%   287μs   22.0MiB    1.3%   247KiB\n",
      "   14          91   22.9ms    0.4%   252μs   10.0MiB    0.6%   113KiB\n",
      "   8           91   22.2ms    0.4%   244μs   11.3MiB    0.6%   127KiB\n",
      "   13          91   10.4ms    0.2%   114μs   5.92MiB    0.3%  66.6KiB\n",
      " Rebuild       91    477ms    8.3%  5.24ms   51.7MiB    3.0%   582KiB\n",
      "\u001b[0m\u001b[1m ────────────────────────────────────────────────────────────────────\u001b[22m\n",
      "\n",
      "Optimized Expression: "
     ]
    },
    {
     "name": "stdout",
     "output_type": "stream",
     "text": [
      "MapJoin(+,\n",
      "   MapJoin(+,\n",
      "      Aggregate(+,[\"i\"],\n",
      "         MapJoin(*,\n",
      "            Reorder(\n",
      "               InputTensor([\"i\"],FIBER,[\"i\", \"j\", \"k\"]),[\"i\", \"j\", \"k\"]),\n",
      "            Aggregate(+,[\"j\"],\n",
      "               MapJoin(*,\n",
      "                  Reorder(\n",
      "                     InputTensor([\"j\"],FIBER,[\"i\", \"j\", \"k\"]),[\"i\", \"j\", \"k\"]),\n",
      "                  Aggregate(+,[\"k\"],\n",
      "                     MapJoin(*,\n",
      "                        Reorder(\n",
      "                           InputTensor([\"k\"],FIBER,[\"i\", \"j\", \"k\"]),[\"i\", \"j\", \"k\"]),\n",
      "                        Reorder(\n",
      "                           InputTensor([\"i\", \"j\", \"k\"],FIBER,[\"i\", \"j\", \"k\"]),[\"i\", \"j\", \"k\"]))))))),\n",
      "      MapJoin(+,\n",
      "         MapJoin(*,\n",
      "            Aggregate(+,[\"k\"],\n",
      "               MapJoin(^,\n",
      "                  Reorder(\n",
      "                     InputTensor([\"k\"],FIBER,[\"i\", \"j\", \"k\"]),[\"i\", \"j\", \"k\"]),\n",
      "                  Scalar(2))),\n",
      "            MapJoin(*,\n",
      "               Aggregate(+,[\"j\"],\n",
      "                  MapJoin(^,\n",
      "                     Reorder(\n",
      "                        InputTensor([\"j\"],FIBER,[\"i\", \"j\", \"k\"]),[\"i\", \"j\", \"k\"]),\n",
      "                     Scalar(2))),\n",
      "               Aggregate(+,[\"i\"],\n",
      "                  MapJoin(^,\n",
      "                     Reorder(\n",
      "                        InputTensor([\"i\"],FIBER,[\"i\", \"j\", \"k\"]),[\"i\", \"j\", \"k\"]),\n",
      "                     Scalar(2))))),\n",
      "         Aggregate(+,[\"i\"],\n",
      "            MapJoin(*,\n",
      "               Reorder(\n",
      "                  InputTensor([\"i\"],FIBER,[\"i\", \"j\", \"k\"]),[\"i\", \"j\", \"k\"]),\n",
      "               Aggregate(+,[\"j\"],\n",
      "                  MapJoin(*,\n",
      "                     Reorder(\n",
      "                        InputTensor([\"j\"],FIBER,[\"i\", \"j\", \"k\"]),[\"i\", \"j\", \"k\"]),\n",
      "                     Aggregate(+,[\"k\"],\n",
      "                        MapJoin(*,\n",
      "                           Reorder(\n",
      "                              InputTensor([\"k\"],FIBER,[\"i\", \"j\", \"k\"]),[\"i\", \"j\", \"k\"]),\n",
      "                           Reorder(\n",
      "                              InputTensor([\"i\", \"j\", \"k\"],FIBER,[\"i\", \"j\", \"k\"]),[\"i\", \"j\", \"k\"]))))))))),\n",
      "   Aggregate(+,[\"k\", \"i\", \"j\"],\n",
      "      MapJoin(^,\n",
      "         Reorder(\n",
      "            InputTensor([\"i\", \"j\", \"k\"],FIBER,[\"i\", \"j\", \"k\"]),[\"i\", \"j\", \"k\"]),\n",
      "         Scalar(2))))\n"
     ]
    },
    {
     "name": "stdout",
     "output_type": "stream",
     "text": [
      "Time to Execute: 16.105325075\n"
     ]
    },
    {
     "data": {
      "text/plain": [
       "1000300408"
      ]
     },
     "metadata": {},
     "output_type": "display_data"
    }
   ],
   "source": [
    "n_1 = 1000\n",
    "declare_binary_operator(^)\n",
    "X = InputTensor(uniform_fiber([n_1, n_1, n_1], .0001))\n",
    "U = InputTensor(uniform_fiber([n_1], 1.0))\n",
    "V = InputTensor(uniform_fiber([n_1], 1.0))\n",
    "W = InputTensor(uniform_fiber([n_1], 1.0))\n",
    "A = OutTensor()\n",
    "Y = OutTensor()\n",
    "C = OutTensor()\n",
    "\n",
    "C[\"i\",\"j\",\"k\"] = U[\"i\"]*V[\"j\"]*W[\"k\"]\n",
    "Y[] = ∑([\"i\",\"j\",\"k\"], (X[\"i\",\"j\",\"k\"] + C[\"i\",\"j\",\"k\"])^2)\n",
    "\n",
    "\n",
    "verbose = 2\n",
    "# Sum_i Sum_j (X[i,j]+u[i]*v[j])\n",
    "#output_tensor_1 = galley(Y, verbose=verbose, optimize=false)\n",
    "\n",
    "# (Sum_i u[i]^2)*(Sum_j v[j]^2) + (Sum_i u[i] * (Sum_j X[i,j] * V[j])) + (Sum_i u[i] * (Sum_j X[i,j] * V[j])) + (Sum_[i,j] X[i,j]^2)\n",
    "output_tensor_2 = galley(Y, verbose=verbose, optimize=true)\n",
    "\n",
    "#println(\"Is Correct?: \", output_tensor_1 == output_tensor_2)"
   ]
  },
  {
   "cell_type": "code",
   "execution_count": 6,
   "metadata": {},
   "outputs": [
    {
     "name": "stdout",
     "output_type": "stream",
     "text": [
      "Aggregate(+,[\"i\", \"j\", \"k\", \"l\"],\n",
      "   MapJoin(*,\n",
      "      MapJoin(*,\n",
      "         MapJoin(*,\n",
      "            Reorder(\n",
      "               InputTensor([\"i\", \"j\"],FIBER,Any[\"i\", \"j\", \"k\", \"l\"]),Any[\"i\", \"j\", \"k\", \"l\"]),\n",
      "            Reorder(\n",
      "               InputTensor([\"j\", \"k\"],FIBER,Any[\"i\", \"j\", \"k\", \"l\"]),Any[\"i\", \"j\", \"k\", \"l\"])),\n",
      "         Reorder(\n",
      "            InputTensor([\"k\", \"l\"],FIBER,Any[\"i\", \"j\", \"k\", \"l\"]),Any[\"i\", \"j\", \"k\", \"l\"])),\n",
      "      InputTensor([\"l\", \"i\"],FIBER,Any[\"i\", \"j\", \"k\", \"l\"])))\n",
      "Expression: Aggregate(+,[\"i\", \"j\", \"k\", \"l\"],\n",
      "   MapJoin(*,\n",
      "      MapJoin(*,\n",
      "         MapJoin(*,\n",
      "            Reorder(\n",
      "               InputTensor([\"i\", \"j\"],FIBER,Any[\"i\", \"j\", \"k\", \"l\"]),Any[\"i\", \"j\", \"k\", \"l\"]),\n",
      "            Reorder(\n",
      "               InputTensor([\"j\", \"k\"],FIBER,Any[\"i\", \"j\", \"k\", \"l\"]),Any[\"i\", \"j\", \"k\", \"l\"])),\n",
      "         Reorder(\n",
      "            InputTensor([\"k\", \"l\"],FIBER,Any[\"i\", \"j\", \"k\", \"l\"]),Any[\"i\", \"j\", \"k\", \"l\"])),\n",
      "      InputTensor([\"l\", \"i\"],FIBER,Any[\"i\", \"j\", \"k\", \"l\"])))\n",
      "Time to Execute: "
     ]
    },
    {
     "name": "stdout",
     "output_type": "stream",
     "text": [
      "6.054274318\n",
      "Aggregate(+,[\"i\", \"j\", \"k\", \"l\"],\n",
      "   MapJoin(*,\n",
      "      MapJoin(*,\n",
      "         MapJoin(*,\n",
      "            Reorder(\n",
      "               InputTensor([\"i\", \"j\"],FIBER,Any[\"i\", \"j\", \"k\", \"l\"]),Any[\"i\", \"j\", \"k\", \"l\"]),\n",
      "            Reorder(\n",
      "               InputTensor([\"j\", \"k\"],FIBER,Any[\"i\", \"j\", \"k\", \"l\"]),Any[\"i\", \"j\", \"k\", \"l\"])),\n",
      "         Reorder(\n",
      "            InputTensor([\"k\", \"l\"],FIBER,Any[\"i\", \"j\", \"k\", \"l\"]),Any[\"i\", \"j\", \"k\", \"l\"])),\n",
      "      InputTensor([\"l\", \"i\"],FIBER,Any[\"i\", \"j\", \"k\", \"l\"])))\n"
     ]
    },
    {
     "name": "stdout",
     "output_type": "stream",
     "text": [
      "Optimized Expression: Aggregate(+,[\"i\", \"j\", \"k\", \"l\"],\n",
      "   MapJoin(*,\n",
      "      MapJoin(*,\n",
      "         Reorder(\n",
      "            InputTensor([\"k\", \"l\"],FIBER,[\"i\", \"j\", \"k\", \"l\"]),[\"i\", \"j\", \"k\", \"l\"]),\n",
      "         InputTensor([\"l\", \"i\"],FIBER,[\"i\", \"j\", \"k\", \"l\"])),\n",
      "      MapJoin(*,\n",
      "         Reorder(\n",
      "            InputTensor([\"j\", \"k\"],FIBER,[\"i\", \"j\", \"k\", \"l\"]),[\"i\", \"j\", \"k\", \"l\"]),\n",
      "         Reorder(\n",
      "            InputTensor([\"i\", \"j\"],FIBER,[\"i\", \"j\", \"k\", \"l\"]),[\"i\", \"j\", \"k\", \"l\"]))))\n",
      "Time to Execute: "
     ]
    },
    {
     "name": "stdout",
     "output_type": "stream",
     "text": [
      "2.859782195\n"
     ]
    },
    {
     "data": {
      "text/plain": [
       "10429"
      ]
     },
     "metadata": {},
     "output_type": "display_data"
    }
   ],
   "source": [
    "is = [\"i\", \"j\", \"k\", \"l\"]\n",
    "E_fiber = uniform_fiber([1000, 1000], .01)\n",
    "E_1 = InputTensor(E_fiber)\n",
    "E_2 = InputTensor(E_fiber)\n",
    "E_3 = InputTensor(E_fiber)\n",
    "E_4 = InputTensor(E_fiber)\n",
    "\n",
    "verbose = 1\n",
    "D[\"i\", \"j\", \"k\", \"l\"] = E_1[\"i\",\"j\"] * E_2[\"j\", \"k\"] * E_3[\"k\", \"l\"] * E_4[\"l\", \"i\"]\n",
    "query =  ∑(is, D[\"i\", \"j\", \"k\", \"l\"])\n",
    "output_1 = galley(query, verbose=verbose, optimize = false)\n",
    "output_2 = galley(query, verbose=verbose, optimize = true)"
   ]
  },
  {
   "cell_type": "code",
   "execution_count": 4,
   "metadata": {},
   "outputs": [
    {
     "name": "stdout",
     "output_type": "stream",
     "text": [
      "Expression: MapJoin(+,\n",
      "   Aggregate(+,[\"lat_1\", \"long_1\"],\n",
      "      MapJoin(*,\n",
      "         MapJoin(*,\n",
      "            MapJoin(*,\n",
      "               InputTensor([\"node_id1\", \"lat_1\", \"long_1\"],FIBER,Any[\"lat_1\", \"lat_2\", \"long_1\", \"long_2\", \"node_id1\", \"node_id2\"]),\n",
      "               Reorder(\n",
      "                  InputTensor([\"lat_1\", \"long_1\"],FIBER,Any[\"lat_1\", \"lat_2\", \"long_1\", \"long_2\", \"node_id1\", \"node_id2\"]),Any[\"lat_1\", \"lat_2\", \"long_1\", \"long_2\", \"node_id1\", \"node_id2\"])),\n",
      "            Reorder(\n",
      "               InputTensor([\"node_id1\"],FIBER,Any[\"lat_1\", \"lat_2\", \"long_1\", \"long_2\", \"node_id1\", \"node_id2\"]),Any[\"lat_1\", \"lat_2\", \"long_1\", \"long_2\", \"node_id1\", \"node_id2\"])),\n",
      "         Reorder(\n",
      "            InputTensor([\"node_id1\"],FIBER,Any[\"lat_1\", \"lat_2\", \"long_1\", \"long_2\", \"node_id1\", \"node_id2\"]),Any[\"lat_1\", \"lat_2\", \"long_1\", \"long_2\", \"node_id1\", \"node_id2\"]))),\n",
      "   Aggregate(+,[\"node_id2\"],\n",
      "      MapJoin(min,\n",
      "         Reorder(\n",
      "            InputTensor([\"node_id1\", \"node_id2\"],FIBER,Any[\"lat_1\", \"lat_2\", \"long_1\", \"long_2\", \"node_id1\", \"node_id2\"]),Any[\"lat_1\", \"lat_2\", \"long_1\", \"long_2\", \"node_id1\", \"node_id2\"]),\n",
      "         Aggregate(+,[\"lat_2\", \"long_2\"],\n",
      "            MapJoin(*,\n",
      "               MapJoin(*,\n",
      "                  MapJoin(*,\n",
      "                     InputTensor([\"node_id2\", \"lat_2\", \"long_2\"],FIBER,Any[\"lat_1\", \"lat_2\", \"long_1\", \"long_2\", \"node_id1\", \"node_id2\"]),\n",
      "                     Reorder(\n",
      "                        InputTensor([\"lat_2\", \"long_2\"],FIBER,Any[\"lat_1\", \"lat_2\", \"long_1\", \"long_2\", \"node_id1\", \"node_id2\"]),Any[\"lat_1\", \"lat_2\", \"long_1\", \"long_2\", \"node_id1\", \"node_id2\"])),\n",
      "                  Reorder(\n",
      "                     InputTensor([\"node_id2\"],FIBER,Any[\"lat_1\", \"lat_2\", \"long_1\", \"long_2\", \"node_id1\", \"node_id2\"]),Any[\"lat_1\", \"lat_2\", \"long_1\", \"long_2\", \"node_id1\", \"node_id2\"])),\n",
      "               Reorder(\n",
      "                  InputTensor([\"node_id2\"],FIBER,Any[\"lat_1\", \"lat_2\", \"long_1\", \"long_2\", \"node_id1\", \"node_id2\"]),Any[\"lat_1\", \"lat_2\", \"long_1\", \"long_2\", \"node_id1\", \"node_id2\"]))))))\n",
      "Time to Execute: "
     ]
    },
    {
     "name": "stdout",
     "output_type": "stream",
     "text": [
      "0.204036484\n",
      "Optimized Expression: MapJoin(+,\n",
      "   Aggregate(+,[\"node_id2\"],\n",
      "      MapJoin(min,\n",
      "         Reorder(\n",
      "            InputTensor([\"node_id1\", \"node_id2\"],FIBER,Any[\"lat_1\", \"lat_2\", \"long_1\", \"long_2\", \"node_id1\", \"node_id2\"]),Any[\"lat_1\", \"lat_2\", \"long_1\", \"long_2\", \"node_id1\", \"node_id2\"]),\n",
      "         MapJoin(*,\n",
      "            Reorder(\n",
      "               InputTensor([\"node_id2\"],FIBER,Any[\"lat_1\", \"lat_2\", \"long_1\", \"long_2\", \"node_id1\", \"node_id2\"]),Any[\"lat_1\", \"lat_2\", \"long_1\", \"long_2\", \"node_id1\", \"node_id2\"]),\n",
      "            MapJoin(*,\n",
      "               Reorder(\n",
      "                  InputTensor([\"node_id2\"],FIBER,Any[\"lat_1\", \"lat_2\", \"long_1\", \"long_2\", \"node_id1\", \"node_id2\"]),Any[\"lat_1\", \"lat_2\", \"long_1\", \"long_2\", \"node_id1\", \"node_id2\"]),\n",
      "               Aggregate(+,[\"lat_2\", \"long_2\"],\n",
      "                  MapJoin(*,\n",
      "                     Reorder(\n",
      "                        InputTensor([\"lat_2\", \"long_2\"],FIBER,Any[\"lat_1\", \"lat_2\", \"long_1\", \"long_2\", \"node_id1\", \"node_id2\"]),Any[\"lat_1\", \"lat_2\", \"long_1\", \"long_2\", \"node_id1\", \"node_id2\"]),\n",
      "                     InputTensor([\"node_id2\", \"lat_2\", \"long_2\"],FIBER,Any[\"lat_1\", \"lat_2\", \"long_1\", \"long_2\", \"node_id1\", \"node_id2\"]))))))),\n",
      "   MapJoin(*,\n",
      "      Reorder(\n",
      "         InputTensor([\"node_id1\"],FIBER,Any[\"lat_1\", \"lat_2\", \"long_1\", \"long_2\", \"node_id1\", \"node_id2\"]),Any[\"lat_1\", \"lat_2\", \"long_1\", \"long_2\", \"node_id1\", \"node_id2\"]),\n",
      "      MapJoin(*,\n",
      "         Reorder(\n",
      "            InputTensor([\"node_id1\"],FIBER,Any[\"lat_1\", \"lat_2\", \"long_1\", \"long_2\", \"node_id1\", \"node_id2\"]),Any[\"lat_1\", \"lat_2\", \"long_1\", \"long_2\", \"node_id1\", \"node_id2\"]),\n",
      "         Aggregate(+,[\"long_1\", \"lat_1\"],\n",
      "            MapJoin(*,\n",
      "               Reorder(\n",
      "                  InputTensor([\"lat_1\", \"long_1\"],FIBER,Any[\"lat_1\", \"lat_2\", \"long_1\", \"long_2\", \"node_id1\", \"node_id2\"]),Any[\"lat_1\", \"lat_2\", \"long_1\", \"long_2\", \"node_id1\", \"node_id2\"]),\n",
      "               InputTensor([\"node_id1\", \"lat_1\", \"long_1\"],FIBER,Any[\"lat_1\", \"lat_2\", \"long_1\", \"long_2\", \"node_id1\", \"node_id2\"]))))))\n",
      "Time to Execute: "
     ]
    },
    {
     "name": "stdout",
     "output_type": "stream",
     "text": [
      "0.185904077\n",
      "Is Equivalent: true\n"
     ]
    }
   ],
   "source": [
    "# Suppose you have a network of power nodes and lines. Further, you need to take weather events/outages into account.\n",
    "# The following query provides the total available power at each node.\n",
    "num_nodes = 1000\n",
    "height = 100\n",
    "width = 100\n",
    "\n",
    "# Because we're dealing with positive numbers, the following is true.\n",
    "declare_binary_operator(min)\n",
    "\n",
    "transmission_capacity = InputTensor(uniform_fiber([num_nodes, num_nodes], 5.0/num_nodes))\n",
    "node_location = InputTensor(uniform_fiber([num_nodes, height, width], 1.0/height/width))\n",
    "weather_event = InputTensor(uniform_fiber([height, width], .01, default_value = 1, non_default_value = 0))\n",
    "node_outage_percent = InputTensor(uniform_fiber([num_nodes], .1, default_value = 1, non_default_value = 0))\n",
    "node_capacity = InputTensor(uniform_fiber([num_nodes], 1.0))\n",
    "node_generation = OutTensor()\n",
    "available_power = OutTensor()\n",
    "\n",
    "node_generation[\"node_id\"] = ∑([\"lat\", \"long\"], node_location[\"node_id\", \"lat\", \"long\"] * weather_event[\"lat\", \"long\"] * node_outage_percent[\"node_id\"] * node_capacity[\"node_id\"])\n",
    "available_power[\"node_id1\"] = node_generation[\"node_id1\"] + ∑(\"node_id2\", min(transmission_capacity[\"node_id1\", \"node_id2\"], node_generation[\"node_id2\"]))\n",
    "\n",
    "\n",
    "verbose = 1\n",
    "total_neighbor_power_1 = galley(available_power, verbose=verbose, optimize=false)\n",
    "\n",
    "total_neighbor_power_2 = galley(available_power, verbose=verbose, optimize=true)\n",
    "\n",
    "println(\"Is Equivalent: \", total_neighbor_power_1 == total_neighbor_power_2)"
   ]
  },
  {
   "cell_type": "code",
   "execution_count": 8,
   "metadata": {},
   "outputs": [],
   "source": []
  },
  {
   "cell_type": "code",
   "execution_count": 21,
   "metadata": {},
   "outputs": [],
   "source": []
  }
 ],
 "metadata": {
  "kernelspec": {
   "display_name": "Julia 1.9.2",
   "language": "julia",
   "name": "julia-1.9"
  },
  "language_info": {
   "file_extension": ".jl",
   "mimetype": "application/julia",
   "name": "julia",
   "version": "1.9.2"
  },
  "orig_nbformat": 4
 },
 "nbformat": 4,
 "nbformat_minor": 2
}
