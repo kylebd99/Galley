{
 "cells": [
  {
   "cell_type": "code",
   "execution_count": 1,
   "metadata": {},
   "outputs": [
    {
     "name": "stdout",
     "output_type": "stream",
     "text": [
      "1\n"
     ]
    }
   ],
   "source": [
    "using Metatheory\n",
    "using Metatheory.EGraphs\n",
    "using TermInterface"
   ]
  },
  {
   "cell_type": "code",
   "execution_count": 3,
   "metadata": {},
   "outputs": [
    {
     "name": "stdout",
     "output_type": "stream",
     "text": [
      "reduceDim(+, Set([\"k\", \"i\"]), mapJoin(*, b[Set([\"j\", \"k\"])], a[Set([\"j\", \"i\"])]))\n",
      "SaturationReport\n",
      "=================\n",
      "\tStop Reason: saturated\n",
      "\tIterations: 7\n",
      "\tEGraph Size: 21 eclasses, 142 nodes\n",
      "\u001b[0m\u001b[1m ────────────────────────────────────────────────────────────────────\u001b[22m\n",
      "\u001b[0m\u001b[1m                   \u001b[22m         Time                    Allocations      \n",
      "                   ───────────────────────   ────────────────────────\n",
      " Tot / % measured:      222ms /  52.4%           11.8MiB /  85.7%    \n",
      "\n",
      " Section   ncalls     time    %tot     avg     alloc    %tot      avg\n",
      " ────────────────────────────────────────────────────────────────────\n",
      " Apply          7    113ms   97.7%  16.2ms   8.30MiB   82.2%  1.19MiB\n",
      " Search         7   1.97ms    1.7%   281μs   1.59MiB   15.7%   232KiB\n",
      "   1            7    315μs    0.3%  45.0μs    229KiB    2.2%  32.7KiB\n",
      "   8            7    304μs    0.3%  43.4μs    285KiB    2.8%  40.8KiB\n",
      "   9            7    286μs    0.2%  40.9μs    285KiB    2.8%  40.8KiB\n",
      "   3            7    201μs    0.2%  28.7μs    173KiB    1.7%  24.8KiB\n",
      "   7            7    194μs    0.2%  27.8μs    150KiB    1.5%  21.4KiB\n",
      "   2            7    181μs    0.2%  25.8μs    101KiB    1.0%  14.4KiB\n",
      "   5            7    171μs    0.1%  24.5μs    155KiB    1.5%  22.1KiB\n",
      "   6            7    154μs    0.1%  22.0μs    135KiB    1.3%  19.2KiB\n",
      "   4            7    138μs    0.1%  19.7μs    101KiB    1.0%  14.4KiB\n",
      " Rebuild        7    712μs    0.6%   102μs    211KiB    2.0%  30.1KiB\n",
      "\u001b[0m\u001b[1m ────────────────────────────────────────────────────────────────────\u001b[22m\n"
     ]
    },
    {
     "data": {
      "text/plain": [
       "Set{String} with 1 element:\n",
       "  \"j\""
      ]
     },
     "execution_count": 3,
     "metadata": {},
     "output_type": "execute_result"
    }
   ],
   "source": [
    "function EGraphs.make(::Val{:IndexAnalysis}, g::EGraph, n::ENodeLiteral)\n",
    "    if n.value isa Set\n",
    "        return n.value\n",
    "    else \n",
    "        return Set()\n",
    "    end\n",
    "end\n",
    "\n",
    "function EGraphs.make(::Val{:IndexAnalysis}, g::EGraph, n::ENodeTerm)\n",
    "    # Let's consider only binary function call terms.\n",
    "    if exprhead(n) == :call && operation(n) == :mapJoin\n",
    "        op = operation(n)\n",
    "        # Get the left and right child eclasses\n",
    "        child_eclasses = arguments(n)\n",
    "        l = g[child_eclasses[2]]\n",
    "        r = g[child_eclasses[3]]\n",
    "\n",
    "        # Return the union of the index sets for mapJoin operators\n",
    "        ldata = getdata(l, :IndexAnalysis, nothing)\n",
    "        rdata = getdata(r, :IndexAnalysis, nothing)\n",
    "        return union(ldata, rdata)\n",
    "        \n",
    "    elseif exprhead(n) == :call && operation(n) == :reduceDim\n",
    "            op = operation(n)\n",
    "            # Get the left and right child eclasses\n",
    "            child_eclasses = arguments(n)\n",
    "            l = g[child_eclasses[2]]\n",
    "            r = g[child_eclasses[3]]\n",
    "\n",
    "            # Return the union of the index sets for mapJoin operators\n",
    "            ldata = getdata(l, :IndexAnalysis, nothing)\n",
    "            rdata = getdata(r, :IndexAnalysis, nothing)\n",
    "            return setdiff(rdata, ldata)\n",
    "        \n",
    "    elseif exprhead(n) == :ref && arity(n) == 2\n",
    "        return getdata(g[arguments(n)[2]], :IndexAnalysis, nothing)\n",
    "    end \n",
    "    return nothing\n",
    "end\n",
    "\n",
    "EGraphs.islazy(::Val{:IndexAnalysis})  = false\n",
    "\n",
    "function EGraphs.join(::Val{:IndexAnalysis}, a, b)\n",
    "    if a == b \n",
    "        return a \n",
    "    else\n",
    "        # an expression cannot be odd and even at the same time!\n",
    "        # this is contradictory, so we ignore the analysis value\n",
    "        return nothing \n",
    "    end\n",
    "end\n",
    "\n",
    "function reduceDimUnion(f, is, js, A)\n",
    "    indices = union(is, js)\n",
    "    return :(reduceDim($f, $indices, $A))\n",
    "end\n",
    "\n",
    "function reduceDim end\n",
    "function mapJoin end\n",
    "\n",
    "doesntShareIndices(is, a) = false\n",
    "\n",
    "function doesntShareIndices(is::Set, a::EClass) \n",
    "    return length(intersect(is, getdata(a, :IndexAnalysis, nothing))) == 0\n",
    "end\n",
    "\n",
    "t = @theory a b c f is js begin\n",
    "    # Fuse reductions\n",
    "    reduceDim(f, is::Set, reduceDim(f, js::Set, a)) => :(reduceDim($f, $(union(is, js)), $a))\n",
    "\n",
    "    # Associativity\n",
    "    mapJoin(+, a, b) == mapJoin(+, b, a)\n",
    "    mapJoin(*, a, b) == mapJoin(*, b, a)\n",
    "\n",
    "    # Commutativity\n",
    "    mapJoin(+, a, mapJoin(+, b, c)) == mapJoin(+, mapJoin(+, a, b), c)\n",
    "    mapJoin(*, a, mapJoin(*, b, c)) == mapJoin(*, mapJoin(*, a, b), c)\n",
    "    \n",
    "    # Distributivity\n",
    "    mapJoin(*, a, mapJoin(+, b, c)) == mapJoin(+, mapJoin(*, a, b), mapJoin(*, a, c))\n",
    "\n",
    "    # Reduction PushUp\n",
    "    mapJoin(*, a, reduceDim(+, is::Set, b)) --> reduceDim(+, is, mapJoin(*, a, b))\n",
    "\n",
    "    # Reduction PushDown\n",
    "    reduceDim(+, is::Set, mapJoin(*, a, b)) => :(mapJoin($*, $a, reduceDim($+, $is, $b))) where doesntShareIndices(is, a)\n",
    "\n",
    "    reduceDim(+, is::Set, mapJoin(*, a, b)) => :(reduceDim($+,  $(intersect(is, getdata(a, :IndexAnalysis, nothing))), mapJoin($*, $a, reduceDim($+, $(setdiff(is, getdata(a, :IndexAnalysis, nothing))), $b))))\n",
    "\n",
    "end\n",
    "\n",
    "is = Set([\"i\"])\n",
    "ks = Set([\"k\"])\n",
    "a_is = Set([\"i\", \"j\"])\n",
    "b_is = Set([\"j\", \"k\"])\n",
    "g= EGraph(:(reduceDim($+, $is, reduceDim($+, $ks, mapJoin($*, a[$a_is], b[$b_is])))))\n",
    "\n",
    "analyze!(g, :IndexAnalysis)\n",
    "report = saturate!(g, t);\n",
    "println(extract!(g, astsize))\n",
    "print(report)\n",
    "getdata(g[g.root], :IndexAnalysis)\n",
    "# NOTE: I had to change one line of Metatheory.jl to make this run. Specifically, around line 200 of saturation.jl, the `eclass = g[ecid]` should be above the if statement."
   ]
  },
  {
   "cell_type": "code",
   "execution_count": 5,
   "metadata": {},
   "outputs": [
    {
     "data": {
      "text/plain": [
       "Set{String} with 2 elements:\n",
       "  \"j\"\n",
       "  \"i\""
      ]
     },
     "execution_count": 5,
     "metadata": {},
     "output_type": "execute_result"
    }
   ],
   "source": [
    "getdata(g[6], :IndexAnalysis, nothing)"
   ]
  },
  {
   "cell_type": "code",
   "execution_count": 10,
   "metadata": {},
   "outputs": [
    {
     "data": {
      "text/plain": [
       "EClass 2 ([Set([\"i\"])], (IndexAnalysis = Base.RefValue{Any}(Set([\"i\"])), astsize = Base.RefValue{Any}((Set([\"i\"]), 1))))"
      ]
     },
     "execution_count": 10,
     "metadata": {},
     "output_type": "execute_result"
    }
   ],
   "source": [
    "g[2]"
   ]
  },
  {
   "cell_type": "code",
   "execution_count": 24,
   "metadata": {},
   "outputs": [
    {
     "data": {
      "text/plain": [
       "EClass 10 ([ENode(call, mapJoin, Expr, [3, 10, 6]), ENode(call, mapJoin, Expr, [3, 6, 10]), 0], (IndexAnalysis = Base.RefValue{Any}(nothing),))"
      ]
     },
     "execution_count": 24,
     "metadata": {},
     "output_type": "execute_result"
    }
   ],
   "source": [
    "g[10]"
   ]
  },
  {
   "cell_type": "code",
   "execution_count": null,
   "metadata": {},
   "outputs": [],
   "source": []
  },
  {
   "cell_type": "code",
   "execution_count": 73,
   "metadata": {},
   "outputs": [
    {
     "data": {
      "text/plain": [
       ":((b + c) * (b * a))"
      ]
     },
     "execution_count": 73,
     "metadata": {},
     "output_type": "execute_result"
    }
   ],
   "source": [
    "t = @theory a b c begin\n",
    "    a * b == b * a\n",
    "    a * 1 == a\n",
    "    a * (b * c) == (a * b) * c\n",
    "    a * (b + c) == a * b + a * c\n",
    "end\n",
    "\n",
    "g = EGraph(:((a * b) * (1 * (b + c))));\n",
    "report = saturate!(g, t);\n",
    "extract!(g, astsize)"
   ]
  }
 ],
 "metadata": {
  "kernelspec": {
   "display_name": "Julia 1.8.3",
   "language": "julia",
   "name": "julia-1.8"
  },
  "language_info": {
   "file_extension": ".jl",
   "mimetype": "application/julia",
   "name": "julia",
   "version": "1.8.3"
  },
  "orig_nbformat": 4
 },
 "nbformat": 4,
 "nbformat_minor": 2
}
