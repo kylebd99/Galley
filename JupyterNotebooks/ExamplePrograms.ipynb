{
 "cells": [
  {
   "cell_type": "code",
   "execution_count": 1,
   "metadata": {},
   "outputs": [
    {
     "name": "stdout",
     "output_type": "stream",
     "text": [
      "12\n"
     ]
    }
   ],
   "source": [
    "using Finch\n",
    "using SparseArrays\n",
    "using Metatheory\n",
    "using Metatheory.EGraphs\n",
    "using TermInterface\n",
    "using PrettyPrinting\n",
    "include(\"../src/Galley.jl\")\n",
    "using .Galley"
   ]
  },
  {
   "cell_type": "code",
   "execution_count": 16,
   "metadata": {},
   "outputs": [
    {
     "name": "stdout",
     "output_type": "stream",
     "text": [
      "Expression: Aggregate(+,[\"m\", \"i_1\"],\n",
      "   MapJoin(*,\n",
      "      MapJoin(*,\n",
      "         Reorder(\n",
      "            InputTensor([\"i_1\", \"m\"],FIBER,Any[\"i_1\", \"m\", \"o\"]),Any[\"i_1\", \"m\", \"o\"]),\n",
      "         Reorder(\n",
      "            InputTensor([\"m\", \"o\"],FIBER,Any[\"i_1\", \"m\", \"o\"]),Any[\"i_1\", \"m\", \"o\"])),\n",
      "      Reorder(\n",
      "         InputTensor([\"m\", \"o\"],FIBER,Any[\"i_1\", \"m\", \"o\"]),Any[\"i_1\", \"m\", \"o\"])))\n",
      "Time to Execute: "
     ]
    },
    {
     "name": "stdout",
     "output_type": "stream",
     "text": [
      "0.343789972\n",
      "Optimized Expression: Aggregate(+,[\"m\"],\n",
      "   MapJoin(*,\n",
      "      MapJoin(*,\n",
      "         Reorder(\n",
      "            InputTensor([\"m\", \"o\"],FIBER,Any[\"i_1\", \"m\", \"o\"]),Any[\"i_1\", \"m\", \"o\"]),\n",
      "         Reorder(\n",
      "            InputTensor([\"m\", \"o\"],FIBER,Any[\"i_1\", \"m\", \"o\"]),Any[\"i_1\", \"m\", \"o\"])),\n",
      "      Aggregate(+,[\"i_1\"],\n",
      "         Reorder(\n",
      "            InputTensor([\"i_1\", \"m\"],FIBER,Any[\"i_1\", \"m\", \"o\"]),Any[\"i_1\", \"m\", \"o\"]))))\n",
      "Time to Execute: 0.010166398\n"
     ]
    },
    {
     "data": {
      "text/plain": [
       "SparseHash (0) [1:10000]\n",
       "├─[96]: 95\n",
       "├─[166]: 95\n",
       "│ ⋮\n",
       "├─[9801]: 77\n",
       "├─[9831]: 98"
      ]
     },
     "metadata": {},
     "output_type": "display_data"
    }
   ],
   "source": [
    "A = InputTensor(uniform_fiber([10000, 100], .01))\n",
    "B = InputTensor(uniform_fiber([100, 10000], .01))\n",
    "C = InputTensor(uniform_fiber([100, 10000], .01))\n",
    "D = OutTensor()\n",
    "E = OutTensor()\n",
    "\n",
    "f(x,y) = 2*x + 5\n",
    "declare_binary_operator(f)\n",
    "verbose = 1\n",
    "# Sum_i Sum_l B[j,l]*A[i,j]*A[i,j]\n",
    "D[\"j\", \"l\"] = ∑(\"i\", A[\"i\", \"j\"] * B[\"j\",\"l\"] * C[\"j\", \"l\"])\n",
    "E[\"o\"] = ∑(\"m\",  D[\"m\", \"o\"])\n",
    "\n",
    "\n",
    "output_tensor_1 = galley(E, verbose=verbose, optimize=false)\n",
    "\n",
    "output_tensor_2 = galley(E, verbose=verbose, global_index_order = 1, optimize=true)\n",
    "\n",
    "#output_tensor_3 = galley(E, verbose=verbose, global_index_order = 2, optimize=true)\n",
    "\n",
    "#output_tensor_4 = galley(E, verbose=verbose, global_index_order = 3, optimize=true)\n",
    "\n",
    "#output_tensor_5 = galley(E, verbose=verbose, global_index_order = 4, optimize=true)\n",
    "\n",
    "#println(\"Is Correct?: \", output_tensor_1 == output_tensor_2 && output_tensor_2 == output_tensor_3 && \n",
    "#                                output_tensor_3 == output_tensor_4 && output_tensor_4 == output_tensor_5)"
   ]
  },
  {
   "cell_type": "code",
   "execution_count": 14,
   "metadata": {},
   "outputs": [
    {
     "name": "stdout",
     "output_type": "stream",
     "text": [
      "Expression: Aggregate(+,[\"i\", \"j\"],\n",
      "   MapJoin(*,\n",
      "      MapJoin(*,\n",
      "         Reorder(\n",
      "            InputTensor([\"i\", \"k\", \"l\"],FIBER,Any[\"i\", \"j\", \"k\", \"l\"]),Any[\"i\", \"j\", \"k\", \"l\"]),\n",
      "         InputTensor([\"k\", \"j\"],FIBER,Any[\"i\", \"j\", \"k\", \"l\"])),\n",
      "      InputTensor([\"l\", \"j\"],FIBER,Any[\"i\", \"j\", \"k\", \"l\"])))\n",
      "Time to Execute: "
     ]
    },
    {
     "name": "stdout",
     "output_type": "stream",
     "text": [
      "1.228956602\n",
      "Optimized Expression: Reorder(\n",
      "   Aggregate(+,[\"j\", \"i\"],\n",
      "      MapJoin(*,\n",
      "         Reorder(\n",
      "            InputTensor([\"l\", \"j\"],FIBER,Any[\"i\", \"l\", \"j\", \"k\"]),Any[\"i\", \"l\", \"j\", \"k\"]),\n",
      "         MapJoin(*,\n",
      "            InputTensor([\"k\", \"j\"],FIBER,Any[\"i\", \"l\", \"j\", \"k\"]),\n",
      "            InputTensor([\"i\", \"k\", \"l\"],FIBER,Any[\"i\", \"l\", \"j\", \"k\"])))),[\"k\", \"l\"])\n",
      "Time to Execute: "
     ]
    },
    {
     "name": "stdout",
     "output_type": "stream",
     "text": [
      "1.806789343\n"
     ]
    },
    {
     "data": {
      "text/plain": [
       "SparseHash (0) [:,1:1000]\n",
       "├─[:,101]: SparseHash (0) [1:1000]\n",
       "│ ├─[731]: 1\n",
       "├─[:,122]: SparseHash (0) [1:1000]\n",
       "│ ├─[784]: 1\n",
       "│ ⋮\n",
       "├─[:,479]: SparseHash (0) [1:1000]\n",
       "│ ├─[609]: 2\n",
       "├─[:,897]: SparseHash (0) [1:1000]\n",
       "│ ├─[321]: 1"
      ]
     },
     "metadata": {},
     "output_type": "display_data"
    }
   ],
   "source": [
    "is = [\"i\", \"j\"]\n",
    "B = InputTensor(uniform_fiber([1000, 1000, 1000], .001))\n",
    "D = InputTensor(uniform_fiber([1000, 1000], 0.0001))\n",
    "C = InputTensor(uniform_fiber([1000, 1000], 0.0001))\n",
    "MTTKRP = OutTensor()\n",
    "MTTKRP_hand_opt = OutTensor()\n",
    "\n",
    "verbose = 1\n",
    "MTTKRP[\"k\", \"l\"] = ∑([\"i\", \"j\"],  B[\"i\", \"k\", \"l\"] * C[\"k\", \"j\"] * D[\"l\",\"j\"])\n",
    "\n",
    "output_tensor_1 = galley(MTTKRP, optimize=false, verbose=verbose)\n",
    "\n",
    "output_tensor_2 = galley(MTTKRP, optimize=true, global_index_order = 5, verbose=verbose)\n",
    "\n",
    "#MTTKRP_hand_opt[\"k\", \"l\"] = ∑([\"i\"],  B[\"i\", \"k\", \"l\"]  * ∑([\"j\"], C[\"k\", \"j\"] *  D[\"l\",\"j\"]))\n",
    "#output_tensor_2 = galley(MTTKRP_hand_opt, optimize=false, verbose=verbose)"
   ]
  },
  {
   "cell_type": "code",
   "execution_count": 4,
   "metadata": {},
   "outputs": [
    {
     "name": "stdout",
     "output_type": "stream",
     "text": [
      "SaturationReport\n",
      "=================\n",
      "\tStop Reason: saturated\n",
      "\tIterations: 91\n",
      "\tEGraph Size: 245 eclasses, 4050 nodes\n",
      "\u001b[0m\u001b[1m ────────────────────────────────────────────────────────────────────\u001b[22m\n",
      "\u001b[0m\u001b[1m                   \u001b[22m         Time                    Allocations      \n",
      "                   ───────────────────────   ────────────────────────\n",
      " Tot / % measured:      4.41s /  95.3%           1.65GiB /  98.8%    \n",
      "\n",
      " Section   ncalls     time    %tot     avg     alloc    %tot      avg\n",
      " ────────────────────────────────────────────────────────────────────\n",
      " Apply         91    2.31s   55.1%  25.4ms    678MiB   40.5%  7.45MiB\n",
      " Search        91    1.62s   38.6%  17.8ms   0.94GiB   57.8%  10.6MiB\n",
      "   6           91    832ms   19.8%  9.14ms    500MiB   29.9%  5.50MiB\n",
      "   5           91    135ms    3.2%  1.48ms   81.9MiB    4.9%   921KiB\n",
      "   12          91    132ms    3.1%  1.45ms   14.4MiB    0.9%   162KiB\n",
      "   7           91    117ms    2.8%  1.29ms   66.1MiB    3.9%   744KiB\n",
      "   4           91    110ms    2.6%  1.21ms   76.0MiB    4.5%   856KiB\n",
      "   3           91   88.9ms    2.1%   977μs   66.9MiB    4.0%   753KiB\n",
      "   9           91   64.9ms    1.5%   714μs   54.0MiB    3.2%   607KiB\n",
      "   1           91   46.5ms    1.1%   511μs   34.9MiB    2.1%   393KiB\n",
      "   11          91   25.7ms    0.6%   283μs   22.0MiB    1.3%   247KiB\n",
      "   2           91   24.0ms    0.6%   264μs   18.2MiB    1.1%   204KiB\n",
      "   14          91   14.7ms    0.3%   161μs   9.93MiB    0.6%   112KiB\n",
      "   8           91   13.4ms    0.3%   147μs   11.2MiB    0.7%   126KiB\n",
      "   13          91   9.88ms    0.2%   109μs   5.92MiB    0.4%  66.6KiB\n",
      "   10          91   8.80ms    0.2%  96.7μs   5.89MiB    0.4%  66.3KiB\n",
      " Rebuild       91    265ms    6.3%  2.91ms   29.2MiB    1.7%   328KiB\n",
      "\u001b[0m\u001b[1m ────────────────────────────────────────────────────────────────────\u001b[22m\n",
      "\n",
      "Optimized Expression: MapJoin(+,\n",
      "   MapJoin(+,\n",
      "      Aggregate(+,[\"i\"],\n",
      "         MapJoin(*,\n",
      "            Reorder(\n",
      "               InputTensor([\"i\"],FIBER,[\"i\", \"j\", \"k\"]),[\"i\", \"j\", \"k\"]),\n",
      "            Aggregate(+,[\"j\"],\n",
      "               MapJoin(*,\n",
      "                  Reorder(\n",
      "                     InputTensor([\"j\"],FIBER,[\"i\", \"j\", \"k\"]),[\"i\", \"j\", \"k\"]),\n",
      "                  Aggregate(+,[\"k\"],\n",
      "                     MapJoin(*,\n",
      "                        Reorder(\n",
      "                           InputTensor([\"k\"],FIBER,[\"i\", \"j\", \"k\"]),[\"i\", \"j\", \"k\"]),\n",
      "                        Reorder(\n",
      "                           InputTensor([\"i\", \"j\", \"k\"],FIBER,[\"i\", \"j\", \"k\"]),[\"i\", \"j\", \"k\"]))))))),\n",
      "      MapJoin(+,\n",
      "         MapJoin(*,\n",
      "            Aggregate(+,[\"k\"],\n",
      "               MapJoin(^,\n",
      "                  Reorder(\n",
      "                     InputTensor([\"k\"],FIBER,[\"i\", \"j\", \"k\"]),[\"i\", \"j\", \"k\"]),\n",
      "                  Scalar(2))),\n",
      "            MapJoin(*,\n",
      "               Aggregate(+,[\"j\"],\n",
      "                  MapJoin(^,\n",
      "                     Reorder(\n",
      "                        InputTensor([\"j\"],FIBER,[\"i\", \"j\", \"k\"]),[\"i\", \"j\", \"k\"]),\n",
      "                     Scalar(2))),\n",
      "               Aggregate(+,[\"i\"],\n",
      "                  MapJoin(^,\n",
      "                     Reorder(\n",
      "                        InputTensor([\"i\"],FIBER,[\"i\", \"j\", \"k\"]),[\"i\", \"j\", \"k\"]),\n",
      "                     Scalar(2))))),\n",
      "         Aggregate(+,[\"i\"],\n",
      "            MapJoin(*,\n",
      "               Reorder(\n",
      "                  InputTensor([\"i\"],FIBER,[\"i\", \"j\", \"k\"]),[\"i\", \"j\", \"k\"]),\n",
      "               Aggregate(+,[\"j\"],\n",
      "                  MapJoin(*,\n",
      "                     Reorder(\n",
      "                        InputTensor([\"j\"],FIBER,[\"i\", \"j\", \"k\"]),[\"i\", \"j\", \"k\"]),\n",
      "                     Aggregate(+,[\"k\"],\n",
      "                        MapJoin(*,\n",
      "                           Reorder(\n",
      "                              InputTensor([\"k\"],FIBER,[\"i\", \"j\", \"k\"]),[\"i\", \"j\", \"k\"]),\n",
      "                           Reorder(\n",
      "                              InputTensor([\"i\", \"j\", \"k\"],FIBER,[\"i\", \"j\", \"k\"]),[\"i\", \"j\", \"k\"]))))))))),\n",
      "   Aggregate(+,[\"i\", \"k\", \"j\"],\n",
      "      MapJoin(^,\n",
      "         Reorder(\n",
      "            InputTensor([\"i\", \"j\", \"k\"],FIBER,[\"i\", \"j\", \"k\"]),[\"i\", \"j\", \"k\"]),\n",
      "         Scalar(2))))\n"
     ]
    },
    {
     "name": "stdout",
     "output_type": "stream",
     "text": [
      "Time to Execute: 6.328755585\n"
     ]
    },
    {
     "data": {
      "text/plain": [
       "1000299895"
      ]
     },
     "metadata": {},
     "output_type": "display_data"
    }
   ],
   "source": [
    "n_1 = 1000\n",
    "declare_binary_operator(^)\n",
    "X = InputTensor(uniform_fiber([n_1, n_1, n_1], .0001))\n",
    "U = InputTensor(uniform_fiber([n_1], 1.0))\n",
    "V = InputTensor(uniform_fiber([n_1], 1.0))\n",
    "W = InputTensor(uniform_fiber([n_1], 1.0))\n",
    "A = OutTensor()\n",
    "Y = OutTensor()\n",
    "C = OutTensor()\n",
    "\n",
    "C[\"i\",\"j\",\"k\"] = U[\"i\"]*V[\"j\"]*W[\"k\"]\n",
    "Y[] = ∑([\"i\",\"j\",\"k\"], (X[\"i\",\"j\",\"k\"] + C[\"i\",\"j\",\"k\"])^2)\n",
    "\n",
    "\n",
    "verbose = 2\n",
    "# Sum_i Sum_j (X[i,j]+u[i]*v[j])\n",
    "#output_tensor_1 = galley(Y, verbose=verbose, optimize=false)\n",
    "\n",
    "# (Sum_i u[i]^2)*(Sum_j v[j]^2) + (Sum_i u[i] * (Sum_j X[i,j] * V[j])) + (Sum_i u[i] * (Sum_j X[i,j] * V[j])) + (Sum_[i,j] X[i,j]^2)\n",
    "output_tensor_2 = galley(Y, verbose=verbose, optimize=true)\n",
    "\n",
    "#println(\"Is Correct?: \", output_tensor_1 == output_tensor_2)"
   ]
  },
  {
   "cell_type": "code",
   "execution_count": 5,
   "metadata": {},
   "outputs": [
    {
     "name": "stdout",
     "output_type": "stream",
     "text": [
      "Expression: Aggregate(+,[\"i\", \"j\", \"k\", \"l\"],\n",
      "   MapJoin(*,\n",
      "      MapJoin(*,\n",
      "         MapJoin(*,\n",
      "            Reorder(\n",
      "               InputTensor([\"i\", \"j\"],FIBER,Any[\"i\", \"j\", \"k\", \"l\"]),Any[\"i\", \"j\", \"k\", \"l\"]),\n",
      "            Reorder(\n",
      "               InputTensor([\"j\", \"k\"],FIBER,Any[\"i\", \"j\", \"k\", \"l\"]),Any[\"i\", \"j\", \"k\", \"l\"])),\n",
      "         Reorder(\n",
      "            InputTensor([\"k\", \"l\"],FIBER,Any[\"i\", \"j\", \"k\", \"l\"]),Any[\"i\", \"j\", \"k\", \"l\"])),\n",
      "      InputTensor([\"l\", \"i\"],FIBER,Any[\"i\", \"j\", \"k\", \"l\"])))\n",
      "Time to Execute: "
     ]
    },
    {
     "name": "stdout",
     "output_type": "stream",
     "text": [
      "4.725157194\n"
     ]
    },
    {
     "name": "stdout",
     "output_type": "stream",
     "text": [
      "Optimized Expression: Aggregate(+,[\"i\", \"j\", \"k\", \"l\"],\n",
      "   MapJoin(*,\n",
      "      MapJoin(*,\n",
      "         Reorder(\n",
      "            InputTensor([\"k\", \"l\"],FIBER,[\"i\", \"j\", \"k\", \"l\"]),[\"i\", \"j\", \"k\", \"l\"]),\n",
      "         InputTensor([\"l\", \"i\"],FIBER,[\"i\", \"j\", \"k\", \"l\"])),\n",
      "      MapJoin(*,\n",
      "         Reorder(\n",
      "            InputTensor([\"j\", \"k\"],FIBER,[\"i\", \"j\", \"k\", \"l\"]),[\"i\", \"j\", \"k\", \"l\"]),\n",
      "         Reorder(\n",
      "            InputTensor([\"i\", \"j\"],FIBER,[\"i\", \"j\", \"k\", \"l\"]),[\"i\", \"j\", \"k\", \"l\"]))))\n",
      "Time to Execute: "
     ]
    },
    {
     "name": "stdout",
     "output_type": "stream",
     "text": [
      "2.709829752\n"
     ]
    },
    {
     "data": {
      "text/plain": [
       "10276"
      ]
     },
     "metadata": {},
     "output_type": "display_data"
    }
   ],
   "source": [
    "is = [\"i\", \"j\", \"k\", \"l\"]\n",
    "E_fiber = uniform_fiber([1000, 1000], .01)\n",
    "E_1 = InputTensor(E_fiber)\n",
    "E_2 = InputTensor(E_fiber)\n",
    "E_3 = InputTensor(E_fiber)\n",
    "E_4 = InputTensor(E_fiber)\n",
    "\n",
    "verbose = 1\n",
    "D[\"i\", \"j\", \"k\", \"l\"] = E_1[\"i\",\"j\"] * E_2[\"j\", \"k\"] * E_3[\"k\", \"l\"] * E_4[\"l\", \"i\"]\n",
    "query =  ∑(is, D[\"i\", \"j\", \"k\", \"l\"])\n",
    "output_1 = galley(query, verbose=verbose, optimize = false)\n",
    "output_2 = galley(query, verbose=verbose, optimize = true)"
   ]
  },
  {
   "cell_type": "code",
   "execution_count": 6,
   "metadata": {},
   "outputs": [
    {
     "name": "stdout",
     "output_type": "stream",
     "text": [
      "Expression: MapJoin(+,\n",
      "   Aggregate(+,[\"lat_1\", \"long_1\"],\n",
      "      MapJoin(*,\n",
      "         MapJoin(*,\n",
      "            MapJoin(*,\n",
      "               InputTensor([\"node_id1\", \"lat_1\", \"long_1\"],FIBER,Any[\"lat_1\", \"lat_2\", \"long_1\", \"long_2\", \"node_id1\", \"node_id2\"]),\n",
      "               Reorder(\n",
      "                  InputTensor([\"lat_1\", \"long_1\"],FIBER,Any[\"lat_1\", \"lat_2\", \"long_1\", \"long_2\", \"node_id1\", \"node_id2\"]),Any[\"lat_1\", \"lat_2\", \"long_1\", \"long_2\", \"node_id1\", \"node_id2\"])),\n",
      "            Reorder(\n",
      "               InputTensor([\"node_id1\"],FIBER,Any[\"lat_1\", \"lat_2\", \"long_1\", \"long_2\", \"node_id1\", \"node_id2\"]),Any[\"lat_1\", \"lat_2\", \"long_1\", \"long_2\", \"node_id1\", \"node_id2\"])),\n",
      "         Reorder(\n",
      "            InputTensor([\"node_id1\"],FIBER,Any[\"lat_1\", \"lat_2\", \"long_1\", \"long_2\", \"node_id1\", \"node_id2\"]),Any[\"lat_1\", \"lat_2\", \"long_1\", \"long_2\", \"node_id1\", \"node_id2\"]))),\n",
      "   Aggregate(+,[\"node_id2\"],\n",
      "      MapJoin(min,\n",
      "         Reorder(\n",
      "            InputTensor([\"node_id1\", \"node_id2\"],FIBER,Any[\"lat_1\", \"lat_2\", \"long_1\", \"long_2\", \"node_id1\", \"node_id2\"]),Any[\"lat_1\", \"lat_2\", \"long_1\", \"long_2\", \"node_id1\", \"node_id2\"]),\n",
      "         Aggregate(+,[\"lat_2\", \"long_2\"],\n",
      "            MapJoin(*,\n",
      "               MapJoin(*,\n",
      "                  MapJoin(*,\n",
      "                     InputTensor([\"node_id2\", \"lat_2\", \"long_2\"],FIBER,Any[\"lat_1\", \"lat_2\", \"long_1\", \"long_2\", \"node_id1\", \"node_id2\"]),\n",
      "                     Reorder(\n",
      "                        InputTensor([\"lat_2\", \"long_2\"],FIBER,Any[\"lat_1\", \"lat_2\", \"long_1\", \"long_2\", \"node_id1\", \"node_id2\"]),Any[\"lat_1\", \"lat_2\", \"long_1\", \"long_2\", \"node_id1\", \"node_id2\"])),\n",
      "                  Reorder(\n",
      "                     InputTensor([\"node_id2\"],FIBER,Any[\"lat_1\", \"lat_2\", \"long_1\", \"long_2\", \"node_id1\", \"node_id2\"]),Any[\"lat_1\", \"lat_2\", \"long_1\", \"long_2\", \"node_id1\", \"node_id2\"])),\n",
      "               Reorder(\n",
      "                  InputTensor([\"node_id2\"],FIBER,Any[\"lat_1\", \"lat_2\", \"long_1\", \"long_2\", \"node_id1\", \"node_id2\"]),Any[\"lat_1\", \"lat_2\", \"long_1\", \"long_2\", \"node_id1\", \"node_id2\"]))))))\n",
      "Time to Execute: "
     ]
    },
    {
     "name": "stdout",
     "output_type": "stream",
     "text": [
      "10.792913229\n",
      "Optimized Expression: MapJoin(+,\n",
      "   Aggregate(+,[\"node_id2\"],\n",
      "      MapJoin(min,\n",
      "         Reorder(\n",
      "            InputTensor([\"node_id1\", \"node_id2\"],FIBER,Any[\"lat_1\", \"lat_2\", \"long_1\", \"long_2\", \"node_id1\", \"node_id2\"]),Any[\"lat_1\", \"lat_2\", \"long_1\", \"long_2\", \"node_id1\", \"node_id2\"]),\n",
      "         MapJoin(*,\n",
      "            Reorder(\n",
      "               InputTensor([\"node_id2\"],FIBER,Any[\"lat_1\", \"lat_2\", \"long_1\", \"long_2\", \"node_id1\", \"node_id2\"]),Any[\"lat_1\", \"lat_2\", \"long_1\", \"long_2\", \"node_id1\", \"node_id2\"]),\n",
      "            MapJoin(*,\n",
      "               Reorder(\n",
      "                  InputTensor([\"node_id2\"],FIBER,Any[\"lat_1\", \"lat_2\", \"long_1\", \"long_2\", \"node_id1\", \"node_id2\"]),Any[\"lat_1\", \"lat_2\", \"long_1\", \"long_2\", \"node_id1\", \"node_id2\"]),\n",
      "               Aggregate(+,[\"lat_2\", \"long_2\"],\n",
      "                  MapJoin(*,\n",
      "                     Reorder(\n",
      "                        InputTensor([\"lat_2\", \"long_2\"],FIBER,Any[\"lat_1\", \"lat_2\", \"long_1\", \"long_2\", \"node_id1\", \"node_id2\"]),Any[\"lat_1\", \"lat_2\", \"long_1\", \"long_2\", \"node_id1\", \"node_id2\"]),\n",
      "                     InputTensor([\"node_id2\", \"lat_2\", \"long_2\"],FIBER,Any[\"lat_1\", \"lat_2\", \"long_1\", \"long_2\", \"node_id1\", \"node_id2\"]))))))),\n",
      "   MapJoin(*,\n",
      "      Reorder(\n",
      "         InputTensor([\"node_id1\"],FIBER,Any[\"lat_1\", \"lat_2\", \"long_1\", \"long_2\", \"node_id1\", \"node_id2\"]),Any[\"lat_1\", \"lat_2\", \"long_1\", \"long_2\", \"node_id1\", \"node_id2\"]),\n",
      "      MapJoin(*,\n",
      "         Reorder(\n",
      "            InputTensor([\"node_id1\"],FIBER,Any[\"lat_1\", \"lat_2\", \"long_1\", \"long_2\", \"node_id1\", \"node_id2\"]),Any[\"lat_1\", \"lat_2\", \"long_1\", \"long_2\", \"node_id1\", \"node_id2\"]),\n",
      "         Aggregate(+,[\"long_1\", \"lat_1\"],\n",
      "            MapJoin(*,\n",
      "               Reorder(\n",
      "                  InputTensor([\"lat_1\", \"long_1\"],FIBER,Any[\"lat_1\", \"lat_2\", \"long_1\", \"long_2\", \"node_id1\", \"node_id2\"]),Any[\"lat_1\", \"lat_2\", \"long_1\", \"long_2\", \"node_id1\", \"node_id2\"]),\n",
      "               InputTensor([\"node_id1\", \"lat_1\", \"long_1\"],FIBER,Any[\"lat_1\", \"lat_2\", \"long_1\", \"long_2\", \"node_id1\", \"node_id2\"]))))))\n",
      "Time to Execute: "
     ]
    },
    {
     "name": "stdout",
     "output_type": "stream",
     "text": [
      "4.253129131\n"
     ]
    },
    {
     "name": "stdout",
     "output_type": "stream",
     "text": [
      "Is Equivalent: true\n"
     ]
    }
   ],
   "source": [
    "# Suppose you have a network of power nodes and lines. Further, you need to take weather events/outages into account.\n",
    "# The following query provides the total available power at each node.\n",
    "num_nodes = 1000\n",
    "height = 100\n",
    "width = 100\n",
    "\n",
    "# Because we're dealing with positive numbers, the following is true.\n",
    "declare_binary_operator(min)\n",
    "\n",
    "transmission_capacity = InputTensor(uniform_fiber([num_nodes, num_nodes], 5.0/num_nodes))\n",
    "node_location = InputTensor(uniform_fiber([num_nodes, height, width], 1.0/height/width))\n",
    "weather_event = InputTensor(uniform_fiber([height, width], .01, default_value = 1, non_default_value = 0))\n",
    "node_outage_percent = InputTensor(uniform_fiber([num_nodes], .1, default_value = 1, non_default_value = 0))\n",
    "node_capacity = InputTensor(uniform_fiber([num_nodes], 1.0))\n",
    "node_generation = OutTensor()\n",
    "available_power = OutTensor()\n",
    "\n",
    "node_generation[\"node_id\"] = ∑([\"lat\", \"long\"], node_location[\"node_id\", \"lat\", \"long\"] * weather_event[\"lat\", \"long\"] * node_outage_percent[\"node_id\"] * node_capacity[\"node_id\"])\n",
    "available_power[\"node_id1\"] = node_generation[\"node_id1\"] + ∑(\"node_id2\", min(transmission_capacity[\"node_id1\", \"node_id2\"], node_generation[\"node_id2\"]))\n",
    "\n",
    "\n",
    "verbose = 1\n",
    "total_neighbor_power_1 = galley(available_power, verbose=verbose, optimize=false)\n",
    "\n",
    "total_neighbor_power_2 = galley(available_power, verbose=verbose, optimize=true)\n",
    "\n",
    "println(\"Is Equivalent: \", total_neighbor_power_1 == total_neighbor_power_2)"
   ]
  },
  {
   "cell_type": "code",
   "execution_count": 8,
   "metadata": {},
   "outputs": [],
   "source": []
  },
  {
   "cell_type": "code",
   "execution_count": 21,
   "metadata": {},
   "outputs": [],
   "source": []
  }
 ],
 "metadata": {
  "kernelspec": {
   "display_name": "Julia 1.9.2",
   "language": "julia",
   "name": "julia-1.9"
  },
  "language_info": {
   "file_extension": ".jl",
   "mimetype": "application/julia",
   "name": "julia",
   "version": "1.9.2"
  },
  "orig_nbformat": 4
 },
 "nbformat": 4,
 "nbformat_minor": 2
}
