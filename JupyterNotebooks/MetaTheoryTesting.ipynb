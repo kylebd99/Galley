{
 "cells": [
  {
   "cell_type": "code",
   "execution_count": 15,
   "metadata": {},
   "outputs": [
    {
     "data": {
      "text/plain": [
       "uniform_fiber (generic function with 1 method)"
      ]
     },
     "execution_count": 15,
     "metadata": {},
     "output_type": "execute_result"
    }
   ],
   "source": [
    "using Finch\n",
    "using SparseArrays\n",
    "using Metatheory\n",
    "using Metatheory.EGraphs\n",
    "using TermInterface\n",
    "using PrettyPrinting\n",
    "include(\"../Source/Spartan.jl\")\n",
    "include(\"../Source/UtilityFuncs.jl\")"
   ]
  },
  {
   "cell_type": "code",
   "execution_count": 24,
   "metadata": {},
   "outputs": [
    {
     "name": "stdout",
     "output_type": "stream",
     "text": [
      "Expression: \n",
      "quote\n",
      "    ReduceDim(\n",
      "        +,\n",
      "        [\"i\", \"l\"],\n",
      "        MapJoin(\n",
      "            *,\n",
      "            InputTensor(B, TensorStats([\"j\", \"l\"], Dict(\"j\" => 1000, \"l\" => 10000), 100134.0, 0, Any[\"i\", \"j\", \"l\"])),\n",
      "            MapJoin(\n",
      "                *,\n",
      "                InputTensor(A, TensorStats([\"i\", \"j\"], Dict(\"j\" => 1000, \"i\" => 10000), 100543.0, 0, Any[\"i\", \"j\", \"l\"])),\n",
      "                InputTensor(C, TensorStats([\"j\", \"l\"], Dict(\"j\" => 1000, \"l\" => 10000), 99920.0, 0, Any[\"i\", \"j\", \"l\"])))))\n",
      "end\n",
      "Time to Execute: 3.682835565\n",
      "Optimized Expression: \n",
      "quote\n",
      "    ReduceDim(\n",
      "        +,\n",
      "        [\"l\"],\n",
      "        MapJoin(\n",
      "            *,\n",
      "            MapJoin(\n",
      "                *,\n",
      "                InputTensor(C, TensorStats([\"j\", \"l\"], Dict(\"j\" => 1000, \"l\" => 10000), 99920.0, 0, Any[\"i\", \"j\", \"l\"])),\n",
      "                InputTensor(B, TensorStats([\"j\", \"l\"], Dict(\"j\" => 1000, \"l\" => 10000), 100134.0, 0, Any[\"i\", \"j\", \"l\"]))),\n",
      "            ReduceDim(\n",
      "                +,\n",
      "                [\"i\"],\n",
      "                InputTensor(A, TensorStats([\"i\", \"j\"], Dict(\"j\" => 1000, \"i\" => 10000), 100543.0, 0, Any[\"i\", \"j\", \"l\"])))))\n",
      "end\n",
      "Time to Execute: 0.005451871\n",
      "Optimized Expression: \n",
      "quote\n",
      "    ReduceDim(\n",
      "        +,\n",
      "        [\"l\"],\n",
      "        MapJoin(\n",
      "            *,\n",
      "            MapJoin(\n",
      "                *,\n",
      "                Reorder(\n",
      "                    InputTensor(C, TensorStats([\"j\", \"l\"], Dict(\"j\" => 1000, \"l\" => 10000), 99920.0, 0, [\"l\", \"j\", \"i\"])),\n",
      "                    [\"l\", \"j\", \"i\"]),\n",
      "                Reorder(\n",
      "                    InputTensor(B, TensorStats([\"j\", \"l\"], Dict(\"j\" => 1000, \"l\" => 10000), 100134.0, 0, [\"l\", \"j\", \"i\"])),\n",
      "                    [\"l\", \"j\", \"i\"])),\n",
      "            ReduceDim(\n",
      "                +,\n",
      "                [\"i\"],\n",
      "                Reorder(\n",
      "                    InputTensor(A, TensorStats([\"i\", \"j\"], Dict(\"j\" => 1000, \"i\" => 10000), 100543.0, 0, [\"l\", \"j\", \"i\"])),\n",
      "                    [\"l\", \"j\", \"i\"]))))\n",
      "end\n",
      "Time to Execute: 1.578571495\n",
      "Optimized Expression: \n",
      "quote\n",
      "    ReduceDim(\n",
      "        +,\n",
      "        [\"l\"],\n",
      "        MapJoin(\n",
      "            *,\n",
      "            MapJoin(\n",
      "                *,\n",
      "                InputTensor(C, TensorStats([\"j\", \"l\"], Dict(\"j\" => 1000, \"l\" => 10000), 99920.0, 0, [\"j\", \"l\", \"i\"])),\n",
      "                InputTensor(B, TensorStats([\"j\", \"l\"], Dict(\"j\" => 1000, \"l\" => 10000), 100134.0, 0, [\"j\", \"l\", \"i\"]))),\n",
      "            ReduceDim(\n",
      "                +,\n",
      "                [\"i\"],\n",
      "                Reorder(\n",
      "                    InputTensor(A, TensorStats([\"i\", \"j\"], Dict(\"j\" => 1000, \"i\" => 10000), 100543.0, 0, [\"j\", \"l\", \"i\"])),\n",
      "                    [\"j\", \"l\", \"i\"]))))\n",
      "end\n",
      "Time to Execute: 0.723525668\n",
      "Optimized Expression: \n",
      "quote\n",
      "    ReduceDim(\n",
      "        +,\n",
      "        [\"l\"],\n",
      "        MapJoin(\n",
      "            *,\n",
      "            MapJoin(\n",
      "                *,\n",
      "                Reorder(\n",
      "                    InputTensor(C, TensorStats([\"j\", \"l\"], Dict(\"j\" => 1000, \"l\" => 10000), 99920.0, 0, [\"i\", \"l\", \"j\"])),\n",
      "                    [\"i\", \"l\", \"j\"]),\n",
      "                Reorder(\n",
      "                    InputTensor(B, TensorStats([\"j\", \"l\"], Dict(\"j\" => 1000, \"l\" => 10000), 100134.0, 0, [\"i\", \"l\", \"j\"])),\n",
      "                    [\"i\", \"l\", \"j\"])),\n",
      "            ReduceDim(\n",
      "                +,\n",
      "                [\"i\"],\n",
      "                InputTensor(A, TensorStats([\"i\", \"j\"], Dict(\"j\" => 1000, \"i\" => 10000), 100543.0, 0, [\"i\", \"l\", \"j\"])))))\n",
      "end\n",
      "Time to Execute: 0.822159778\n",
      "Is Correct?: true\n"
     ]
    }
   ],
   "source": [
    "is = [\"i\", \"l\"]\n",
    "A = InputTensor(\"A\", [\"i\", \"j\"], uniform_fiber([10000, 1000], .01))\n",
    "B = InputTensor(\"B\", [\"j\", \"l\"], uniform_fiber([1000, 10000], .01))\n",
    "C = InputTensor(\"C\", [\"j\", \"l\"], uniform_fiber([1000, 10000], .01))\n",
    "output_order = [\"j\", \"i\"]\n",
    "\n",
    "verbose = 1\n",
    "# Sum_i Sum_l B[j,l]*A[i,j]*A[i,j]\n",
    "output_tensor_1 = spartan(:(Reorder(ReduceDim($+, $is,  MapJoin($*, $B, MapJoin($*, $A, $C))), $output_order)), verbose=verbose, optimize=false)\n",
    "#println(output_tensor)\n",
    "\n",
    "global_index_order = [\"i\", \"j\", \"l\"]\n",
    "# (Sum_l B[j,l])*(Sum_i A[i,j] * A[i,j])\n",
    "output_tensor_2 = spartan(:(Reorder(ReduceDim($+, $is, MapJoin($*, $B, MapJoin($*, $A, $C))), $output_order)), verbose=verbose,\n",
    "                             global_index_order = global_index_order, optimize=true)\n",
    "\n",
    "global_index_order = [\"l\", \"j\", \"i\"]\n",
    "output_tensor_3 = spartan(:(Reorder(ReduceDim($+, $is, MapJoin($*, $B, MapJoin($*, $A, $C))), $output_order)), verbose=verbose,\n",
    "                             global_index_order = global_index_order, optimize=true)\n",
    "\n",
    "\n",
    "\n",
    "global_index_order = [\"j\", \"l\", \"i\"]\n",
    "output_tensor_4 = spartan(:(Reorder(ReduceDim($+, $is, MapJoin($*, $B, MapJoin($*, $A, $C))), $output_order)), verbose=verbose,\n",
    "                             global_index_order = global_index_order, optimize=true)\n",
    "\n",
    "\n",
    "global_index_order = [\"i\", \"l\", \"j\"]\n",
    "output_tensor_5 = spartan(:(Reorder(ReduceDim($+, $is, MapJoin($*, $B, MapJoin($*, $A, $C))), $output_order)), verbose=verbose,\n",
    "                            global_index_order = global_index_order, optimize=true)\n",
    "\n",
    "println(\"Is Correct?: \", output_tensor_1 == output_tensor_2 && output_tensor_2 == output_tensor_3 && output_tensor_3 == output_tensor_4 && output_tensor_4 == output_tensor_5)"
   ]
  },
  {
   "cell_type": "code",
   "execution_count": 25,
   "metadata": {},
   "outputs": [
    {
     "name": "stdout",
     "output_type": "stream",
     "text": [
      "Expression: \n",
      "quote\n",
      "    ReduceDim(\n",
      "        +,\n",
      "        [\"i\", \"j\"],\n",
      "        MapJoin(\n",
      "            ^,\n",
      "            MapJoin(\n",
      "                +,\n",
      "                InputTensor(X, TensorStats([\"i\", \"j\"], Dict(\"j\" => 10000, \"i\" => 1000), 100413.0, 0, Any[\"i\", \"j\"])),\n",
      "                MapJoin(\n",
      "                    *,\n",
      "                    InputTensor(u, TensorStats([\"i\"], Dict(\"i\" => 1000), 1000.0, 0, Any[\"i\", \"j\"])),\n",
      "                    InputTensor(v, TensorStats([\"j\"], Dict(\"j\" => 10000), 10000.0, 0, Any[\"i\", \"j\"])))),\n",
      "            2))\n",
      "end\n",
      "Time to Execute: 10.194535712\n",
      "Optimized Expression: \n",
      "quote\n",
      "    MapJoin(\n",
      "        +,\n",
      "        MapJoin(\n",
      "            +,\n",
      "            ReduceDim(\n",
      "                +,\n",
      "                [\"i\"],\n",
      "                MapJoin(\n",
      "                    *,\n",
      "                    InputTensor(u, TensorStats([\"i\"], Dict(\"i\" => 1000), 1000.0, 0, Any[\"i\", \"j\"])),\n",
      "                    ReduceDim(\n",
      "                        +,\n",
      "                        [\"j\"],\n",
      "                        MapJoin(\n",
      "                            *,\n",
      "                            InputTensor(v, TensorStats([\"j\"], Dict(\"j\" => 10000), 10000.0, 0, Any[\"i\", \"j\"])),\n",
      "                            InputTensor(X, TensorStats([\"i\", \"j\"], Dict(\"j\" => 10000, \"i\" => 1000), 100413.0, 0, Any[\"i\", \"j\"])))))),\n",
      "            MapJoin(\n",
      "                +,\n",
      "                MapJoin(\n",
      "                    *,\n",
      "                    ReduceDim(\n",
      "                        +,\n",
      "                        [\"i\"],\n",
      "                        MapJoin(\n",
      "                            ^,\n",
      "                            InputTensor(u, TensorStats([\"i\"], Dict(\"i\" => 1000), 1000.0, 0, Any[\"i\", \"j\"])),\n",
      "                            2)),\n",
      "                    ReduceDim(\n",
      "                        +,\n",
      "                        [\"j\"],\n",
      "                        MapJoin(\n",
      "                            ^,\n",
      "                            InputTensor(v, TensorStats([\"j\"], Dict(\"j\" => 10000), 10000.0, 0, Any[\"i\", \"j\"])),\n",
      "                            2))),\n",
      "                ReduceDim(\n",
      "                    +,\n",
      "                    [\"i\"],\n",
      "                    MapJoin(\n",
      "                        *,\n",
      "                        InputTensor(u, TensorStats([\"i\"], Dict(\"i\" => 1000), 1000.0, 0, Any[\"i\", \"j\"])),\n",
      "                        ReduceDim(\n",
      "                            +,\n",
      "                            [\"j\"],\n",
      "                            MapJoin(\n",
      "                                *,\n",
      "                                InputTensor(v, TensorStats([\"j\"], Dict(\"j\" => 10000), 10000.0, 0, Any[\"i\", \"j\"])),\n",
      "                                InputTensor(X, TensorStats([\"i\", \"j\"], Dict(\"j\" => 10000, \"i\" => 1000), 100413.0, 0, Any[\"i\", \"j\"])))))))),\n",
      "        ReduceDim(\n",
      "            +,\n",
      "            [\"i\", \"j\"],\n",
      "            MapJoin(\n",
      "                ^,\n",
      "                InputTensor(X, TensorStats([\"i\", \"j\"], Dict(\"j\" => 10000, \"i\" => 1000), 100413.0, 0, Any[\"i\", \"j\"])),\n",
      "                2)))\n",
      "end\n",
      "Time to Execute: 0.453873139\n",
      "Is Correct?: true\n"
     ]
    }
   ],
   "source": [
    "is = [\"i\", \"j\"]\n",
    "X = InputTensor(\"X\", [\"i\", \"j\"], uniform_fiber([1000, 10000], .01))\n",
    "u = InputTensor(\"u\", [\"i\"], uniform_fiber([1000], 1.0))\n",
    "v = InputTensor(\"v\", [\"j\"], uniform_fiber([10000], 1.0))\n",
    "\n",
    "verbose = 1\n",
    "# Sum_i Sum_j (X[i,j]+u[i]*v[j])\n",
    "output_tensor_1 = spartan(:(ReduceDim($+, $is, MapJoin($^, MapJoin($+, $X, MapJoin($*, $u, $v)), 2))), verbose=verbose, optimize=false)\n",
    "\n",
    "# (Sum_i u[i]^2)*(Sum_j v[j]^2) + (Sum_i u[i] * (Sum_j X[i,j] * V[j])) + (Sum_i u[i] * (Sum_j X[i,j] * V[j])) + (Sum_[i,j] X[i,j]^2)\n",
    "output_tensor_2 = spartan(:(ReduceDim($+, $is, MapJoin($^, MapJoin($+, $X, MapJoin($*, $u, $v)), 2))), verbose=verbose, optimize=true)\n",
    "\n",
    "println(\"Is Correct?: \", output_tensor_1 == output_tensor_2)"
   ]
  },
  {
   "cell_type": "code",
   "execution_count": 41,
   "metadata": {},
   "outputs": [
    {
     "data": {
      "text/plain": [
       "555225.7320571354"
      ]
     },
     "execution_count": 41,
     "metadata": {},
     "output_type": "execute_result"
    }
   ],
   "source": [
    "output_tensor_1"
   ]
  },
  {
   "cell_type": "code",
   "execution_count": 42,
   "metadata": {},
   "outputs": [
    {
     "data": {
      "text/plain": [
       "555225.732057129"
      ]
     },
     "execution_count": 42,
     "metadata": {},
     "output_type": "execute_result"
    }
   ],
   "source": [
    "output_tensor_2"
   ]
  }
 ],
 "metadata": {
  "kernelspec": {
   "display_name": "Julia 1.8.3",
   "language": "julia",
   "name": "julia-1.8"
  },
  "language_info": {
   "file_extension": ".jl",
   "mimetype": "application/julia",
   "name": "julia",
   "version": "1.8.3"
  },
  "orig_nbformat": 4
 },
 "nbformat": 4,
 "nbformat_minor": 2
}
